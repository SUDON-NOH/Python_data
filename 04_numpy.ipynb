{
 "cells": [
  {
   "cell_type": "markdown",
   "metadata": {},
   "source": [
    "# 04장 Numpy 통계학\n",
    "- 행렬과 선형대수"
   ]
  },
  {
   "cell_type": "code",
   "execution_count": 2,
   "metadata": {},
   "outputs": [],
   "source": [
    "import numpy as np\n",
    "import pandas as pd\n",
    "from numpy.random import seed\n",
    "from numpy.random import rand\n",
    "from numpy.random import randint\n",
    "seed(42)\n",
    "# seed 를 고정시켜야 rand 로 돌려도 rand 의 값이 고정된다. 따라서 데이터를 분석할 때 seed를 고정시켜놓고 한다.\n",
    "# 만약 고정하지 않고 돌린다면, 데이터를 분석하는 사람들 사이에서 시간의 차이가 발생할 수 있다.\n",
    "# rand(7)\n",
    "# np.random.seed(42)\n",
    "# np.random.rand(n) # 0과 1 사이의 값을 균일분포로 난수 n개 생성\n",
    "# np.random.randint(start, end + 1, size)\n",
    "# randint(1, 9, 3) array([4, 7, 4])"
   ]
  },
  {
   "cell_type": "code",
   "execution_count": 7,
   "metadata": {},
   "outputs": [
    {
     "name": "stdout",
     "output_type": "stream",
     "text": [
      "66\n",
      "5.5\n",
      "3.452052529534663\n",
      "11\n",
      "0\n",
      "5.5\n",
      "[0. 0. 0. 0. 0. 0. 0. 0. 0. 0.]\n",
      "[[0. 0. 0. 0.]\n",
      " [0. 0. 0. 0.]\n",
      " [0. 0. 0. 0.]]\n",
      "[1. 1. 1. 1. 1.]\n",
      "[[1. 1. 1. 1. 1.]\n",
      " [1. 1. 1. 1. 1.]\n",
      " [1. 1. 1. 1. 1.]]\n"
     ]
    }
   ],
   "source": [
    "a = np.arange(12).reshape(3,4)\n",
    "\n",
    "# Numpy 통계함수\n",
    "print(a.sum())\n",
    "print(a.mean())\n",
    "print(a.std())\n",
    "print(a.max())\n",
    "print(a.min())\n",
    "\n",
    "from scipy.stats import scoreatpercentile\n",
    "print(scoreatpercentile(a, 50))   # 중간값, a = 행렬, 50 = %  # a 중 50%에 해당하는 값\n",
    "\n",
    "print(np.zeros(10))\n",
    "print(np.zeros((3,4)))\n",
    "print(np.ones(5))\n",
    "print(np.ones((3,5)))"
   ]
  },
  {
   "cell_type": "code",
   "execution_count": 13,
   "metadata": {},
   "outputs": [
    {
     "name": "stdout",
     "output_type": "stream",
     "text": [
      "[[ 2  4  6]\n",
      " [ 4  2  6]\n",
      " [10 -4 18]] <class 'numpy.matrix'>\n",
      "[[-0.41666667  0.66666667 -0.08333333]\n",
      " [ 0.08333333  0.16666667 -0.08333333]\n",
      " [ 0.25       -0.33333333  0.08333333]]\n",
      "[[ 1.00000000e+00 -2.22044605e-16  0.00000000e+00]\n",
      " [ 5.55111512e-17  1.00000000e+00  0.00000000e+00]\n",
      " [ 3.88578059e-16 -4.44089210e-16  1.00000000e+00]]\n"
     ]
    }
   ],
   "source": [
    "# 행렬과 선형대수\n",
    "A = np.mat(\"2 4 6;4 2 6;10 -4 18\")\n",
    "print(A,type(A)) # <class 'numpy.matrix'>\n",
    "# [[ 2  4  6]\n",
    "#  [ 4  2  6]\n",
    "#  [10 -4 18]]\n",
    "\n",
    "\n",
    "# 역행렬  :  A * X = E (E:항등행렬, 왼쪽 위에서 대각선으로 1, 나머지는 0) 항등행렬 : 어떤 값을 곱해도 원본 그대로로 만들어주는 행렬\n",
    "# 역행렬 A * A^-1 = E , A^-1 * A = E (A와 A^-1은 역행렬 관계)\n",
    "\n",
    "inverse = np.linalg.inv(A)\n",
    "print(inverse)\n",
    "\n",
    "E = A * inverse\n",
    "print(E)"
   ]
  },
  {
   "cell_type": "code",
   "execution_count": 29,
   "metadata": {},
   "outputs": [
    {
     "name": "stdout",
     "output_type": "stream",
     "text": [
      "[[ 1 -2  1]\n",
      " [ 0  2 -8]\n",
      " [-4  5  9]]\n",
      "[ 0  8 -9]\n",
      "[29. 16.  3.]\n",
      "[[ 0.  8. -9.]]\n",
      "using inverse:  [[29. 16.  3.]]\n"
     ]
    }
   ],
   "source": [
    "# 선형방정식\n",
    "A = np.mat(\"1 -2 1;0 2 -8;-4 5 9\")\n",
    "A\n",
    "B = np.array([0,8,-9])\n",
    "\n",
    "print(A)\n",
    "print(B)\n",
    "# 1*X0 - 2*X1 + 1*2X = 0\n",
    "# 0*X0 + 2X1 - 8X2 = 8\n",
    "# -4*X0 + 5*X1 +9*X2 = -9\n",
    "\n",
    "x = np.linalg.solve(A, B)\n",
    "print(x) # [29. 16.  3.]\n",
    "print(np.dot(A, x)) # [ 0.  8. -9.] # A * x = B -> w*x = y\n",
    "                                    # x = inverse_A * B   # x 구하는 방법\n",
    "inverse = np.linalg.inv(A)\n",
    "x = np.dot(inverse, B)\n",
    "print('using inverse: ',x)"
   ]
  },
  {
   "cell_type": "code",
   "execution_count": 27,
   "metadata": {},
   "outputs": [
    {
     "name": "stdout",
     "output_type": "stream",
     "text": [
      "[[0 1]\n",
      " [2 3]]\n",
      "[[0 1]\n",
      " [2 3]]\n",
      "[[0 1]\n",
      " [4 9]]\n",
      "[[ 2  3]\n",
      " [ 6 11]]\n"
     ]
    }
   ],
   "source": [
    "a1 = np.arange(4).reshape(2,2)\n",
    "a2 = np.arange(4).reshape(2,2)\n",
    "print(a1)\n",
    "print(a2)\n",
    "print(a1*a2) # 안에 있는 요소간의 곱셈\n",
    "print(np.dot(a1, a2)) # matrix 곱셈 , dot product 곱셈\n",
    "# (m, n) * (n , l) = (m, l) -> 행렬의 shape\n",
    "# 첫 행렬의 m = 행의 개수 n = 열의 개수\n"
   ]
  },
  {
   "cell_type": "code",
   "execution_count": null,
   "metadata": {},
   "outputs": [],
   "source": []
  }
 ],
 "metadata": {
  "kernelspec": {
   "display_name": "Python 3",
   "language": "python",
   "name": "python3"
  },
  "language_info": {
   "codemirror_mode": {
    "name": "ipython",
    "version": 3
   },
   "file_extension": ".py",
   "mimetype": "text/x-python",
   "name": "python",
   "nbconvert_exporter": "python",
   "pygments_lexer": "ipython3",
   "version": "3.7.3"
  }
 },
 "nbformat": 4,
 "nbformat_minor": 2
}
