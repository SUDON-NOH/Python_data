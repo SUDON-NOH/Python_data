{
 "cells": [
  {
   "cell_type": "markdown",
   "metadata": {},
   "source": [
    "# 전처리(Preprocessing)\n",
    "\n",
    "#### (1) 표준화(Standardization)\n",
    "- 데이터가 평균으로부터 얼마나 떨어져 있는지 나타내는 값으로, 특정 범위를 벗어난 데이터는\n",
    "  outlier(이상치)로 간주하여 제거한다.\n",
    "- StandardScaler 사용 (Scaling)    * import numpy\n",
    "  - Z = (X - mean())/std()  \n",
    "  - 특정 데이터(이상치)에서 평균을 뺀 후 표준편차로 나눠준다.\n",
    "\n",
    "#### (2) 정규화(Normalization)\n",
    "- 데이터의 범위를 일치시키거나 분포를 유사하게 만들어 주는 기능\n",
    "- 데이터 범위를 0 ~ 1로 변환\n",
    "- MinMaxScaler 사용\n",
    "  - Z = (X - min())/(max() - min())\n",
    "  \n",
    "### 데이터 분석 절차\n",
    "데이터 표준화를 통해 outlier를 제거하고, 그 다음 데이터 정규화를 하여\n",
    "상대적 크기의 영향력을 줄인 다음 분석을 시작한다.\n"
   ]
  },
  {
   "cell_type": "code",
   "execution_count": 1,
   "metadata": {},
   "outputs": [],
   "source": [
    "import numpy as np\n",
    "import matplotlib.pyplot as plt\n",
    "import pandas as pd"
   ]
  },
  {
   "cell_type": "code",
   "execution_count": 10,
   "metadata": {},
   "outputs": [
    {
     "name": "stdout",
     "output_type": "stream",
     "text": [
      "Raw data: \n",
      " [[3779  477 8987 4721]\n",
      " [1946 5789 1668 4646]\n",
      " [7276 6631 9032  546]]\n",
      "Numpy Standardized data: \n",
      " [[-0.25086372 -1.40291103  0.70059555  0.72624377]\n",
      " [-1.0798899   0.54692241 -1.41419364  0.68779557]\n",
      " [ 1.33075362  0.85598862  0.71359808 -1.41403934]]\n"
     ]
    }
   ],
   "source": [
    "# 표준화(Standardization) : StandardScaler\n",
    "# (1) Numpy를 이용한 표준화\n",
    "# Z = (X - mean())/std()\n",
    "\n",
    "data = np.random.randint(10000, size = (3, 4)) # 정수를 무작위로 만드는 함수 \" np. random.randint(범위, size = (행, 열)) \"\n",
    "print('Raw data: \\n', data)\n",
    "data_std_np = (data - np.mean(data, axis = 0))/np.std(data, axis = 0) # 행(axis = 1)과 열(axis = 0)을 구분해 주어야 한다.\n",
    "print('Numpy Standardized data: \\n', data_std_np)\n"
   ]
  },
  {
   "cell_type": "code",
   "execution_count": 12,
   "metadata": {},
   "outputs": [
    {
     "name": "stdout",
     "output_type": "stream",
     "text": [
      "scipy Standardized data: \n",
      " [[-0.25086372 -1.40291103  0.70059555  0.72624377]\n",
      " [-1.0798899   0.54692241 -1.41419364  0.68779557]\n",
      " [ 1.33075362  0.85598862  0.71359808 -1.41403934]]\n"
     ]
    }
   ],
   "source": [
    "# (2) scipy.stats 를 이용한 표준화 : zscore()\n",
    "import scipy.stats as ss\n",
    "data_std_ss = ss.zscore(data)\n",
    "print('scipy Standardized data: \\n', data_std_ss)"
   ]
  },
  {
   "cell_type": "code",
   "execution_count": 13,
   "metadata": {},
   "outputs": [
    {
     "name": "stdout",
     "output_type": "stream",
     "text": [
      "sklearn Standardized data: \n",
      " [[-0.25086372 -1.40291103  0.70059555  0.72624377]\n",
      " [-1.0798899   0.54692241 -1.41419364  0.68779557]\n",
      " [ 1.33075362  0.85598862  0.71359808 -1.41403934]]\n"
     ]
    },
    {
     "name": "stderr",
     "output_type": "stream",
     "text": [
      "C:\\ProgramData\\Anaconda3\\lib\\site-packages\\sklearn\\utils\\validation.py:595: DataConversionWarning: Data with input dtype int32 was converted to float64 by StandardScaler.\n",
      "  warnings.warn(msg, DataConversionWarning)\n",
      "C:\\ProgramData\\Anaconda3\\lib\\site-packages\\sklearn\\utils\\validation.py:595: DataConversionWarning: Data with input dtype int32 was converted to float64 by StandardScaler.\n",
      "  warnings.warn(msg, DataConversionWarning)\n"
     ]
    }
   ],
   "source": [
    "# (3) sklearn.preprocessing 을 이용한 표준화\n",
    "# StandardScaler().fit_transform()\n",
    "from sklearn.preprocessing import StandardScaler\n",
    "data_std_skl = StandardScaler().fit_transform(data)\n",
    "print('sklearn Standardized data: \\n', data_std_skl)"
   ]
  },
  {
   "cell_type": "code",
   "execution_count": 16,
   "metadata": {},
   "outputs": [
    {
     "name": "stdout",
     "output_type": "stream",
     "text": [
      "Raw data: \n",
      " [[3779  477 8987 4721]\n",
      " [1946 5789 1668 4646]\n",
      " [7276 6631 9032  546]]\n",
      "numpy minmax data: \n",
      " [[0.34390244 0.         0.99388919 1.        ]\n",
      " [0.         0.86317842 0.         0.98203593]\n",
      " [1.         1.         1.         0.        ]]\n"
     ]
    }
   ],
   "source": [
    "# 정규화 : MinMaxScaler\n",
    "# (1) Numpy를 이용한 정규화\n",
    "# Z = (X - min())/max() - min()\n",
    "data_minmax_np = (data - np.min(data, axis = 0))/(np.max(data, axis = 0) - np.min(data, axis = 0))\n",
    "print('Raw data: \\n', data)\n",
    "print('numpy minmax data: \\n', data_minmax_np)\n",
    "# 열을 기준으로 했을 경우 행과 있는 숫자들을 비교해서는 안된다. 반대의 경우도 마찬가지이다.\n",
    "# 그 열의 최소값은 0으로 나타나고 최대값은 1로 나타난다.\n",
    "# 나머지는 비율로 계산된다."
   ]
  },
  {
   "cell_type": "code",
   "execution_count": 19,
   "metadata": {},
   "outputs": [
    {
     "name": "stdout",
     "output_type": "stream",
     "text": [
      "sklearn minmax data:\n",
      " [[0.34390244 0.         0.99388919 1.        ]\n",
      " [0.         0.86317842 0.         0.98203593]\n",
      " [1.         1.         1.         0.        ]]\n"
     ]
    },
    {
     "name": "stderr",
     "output_type": "stream",
     "text": [
      "C:\\ProgramData\\Anaconda3\\lib\\site-packages\\sklearn\\utils\\validation.py:595: DataConversionWarning: Data with input dtype int32 was converted to float64 by MinMaxScaler.\n",
      "  warnings.warn(msg, DataConversionWarning)\n"
     ]
    }
   ],
   "source": [
    "# (2) sklearn.preprocessing 을 이용한 정규화\n",
    "# MinMaxScaler().fit_transform()\n",
    "from sklearn.preprocessing import MinMaxScaler\n",
    "data_minmax_skl = MinMaxScaler().fit_transform(data)\n",
    "print('sklearn minmax data:\\n', data_minmax_skl)"
   ]
  },
  {
   "cell_type": "code",
   "execution_count": 21,
   "metadata": {},
   "outputs": [
    {
     "name": "stdout",
     "output_type": "stream",
     "text": [
      "Raw data:\n",
      " [ 1.3315865   0.71527897 -1.54540029 -0.00838385  0.62133597 -0.72008556\n",
      "  0.26551159  0.10854853  0.00429143 -0.17460021  0.43302619  1.20303737\n",
      " -0.96506567  1.02827408  0.22863013  0.44513761 -1.13660221  0.13513688\n",
      "  1.484537   -1.07980489 -1.97772828 -1.7433723   0.26607016  2.38496733\n",
      "  1.12369125  1.67262221  0.09914922  1.39799638 -0.27124799  0.61320418\n",
      " -0.26731719 -0.54930901  0.1327083  -0.47614201  1.30847308  0.19501328\n",
      "  0.40020999 -0.33763234  1.25647226 -0.7319695   0.66023155 -0.35087189\n",
      " -0.93943336 -0.48933722 -0.80459114 -0.21269764 -0.33914025  0.31216994\n",
      "  0.56515267 -0.14742026 -0.02590534  0.2890942  -0.53987907  0.70816002\n",
      "  0.84222474  0.2035808   2.39470366  0.91745894 -0.11227247 -0.36218045\n",
      " -0.23218226 -0.5017289   1.12878515 -0.69781003 -0.08112218 -0.52929608\n",
      "  1.04618286 -1.41855603 -0.36249918 -0.12190569  0.31935642  0.4609029\n",
      " -0.21578989  0.98907246  0.31475378  2.46765106 -1.50832149  0.62060066\n",
      " -1.04513254 -0.79800882  1.98508459  1.74481415 -1.85618548 -0.2227737\n",
      " -0.06584785 -2.13171211 -0.04883051  0.39334122  0.21726515 -1.99439377\n",
      "  1.10770823  0.24454398 -0.06191203 -0.75389296  0.71195902  0.91826915\n",
      " -0.48209314  0.08958761  0.82699862 -1.95451212]\n"
     ]
    },
    {
     "data": {
      "text/plain": [
       "<function matplotlib.pyplot.show(*args, **kw)>"
      ]
     },
     "execution_count": 21,
     "metadata": {},
     "output_type": "execute_result"
    },
    {
     "data": {
      "image/png": "[encoded data removed]",
      "text/plain": [
       "<Figure size 432x288 with 1 Axes>"
      ]
     },
     "metadata": {
      "needs_background": "light"
     },
     "output_type": "display_data"
    }
   ],
   "source": [
    "# 이상치(Outlier)를 제거하여 표준화하기\n",
    "\n",
    "np.random.seed(10)\n",
    "data = np.random.randn(100)  # 정규분포로 랜덤하게 100개 생성\n",
    "print('Raw data:\\n', data)\n",
    "plt.hist(data)\n",
    "plt.show    # 정규성이 있는 데이터다"
   ]
  },
  {
   "cell_type": "code",
   "execution_count": 26,
   "metadata": {},
   "outputs": [
    {
     "name": "stdout",
     "output_type": "stream",
     "text": [
      "Outlier inserted data:\n",
      " [ 1.33158650e+00  7.15278974e-01 -1.54540029e+00 -8.38384993e-03\n",
      "  6.21335974e-01 -7.20085561e-01  2.65511586e-01  1.08548526e-01\n",
      "  4.29143093e-03 -1.74600211e-01  4.33026190e-01  1.20303737e+00\n",
      " -9.65065671e-01  1.02827408e+00  2.28630130e-01  4.45137613e-01\n",
      " -1.13660221e+00  1.35136878e-01  1.48453700e+00 -1.07980489e+00\n",
      " -1.97772828e+00 -1.74337230e+00  2.66070164e-01  2.38496733e+00\n",
      "  1.12369125e+00  1.67262221e+00  9.91492158e-02  1.39799638e+00\n",
      " -2.71247988e-01  6.13204185e-01 -2.67317189e-01 -5.49309014e-01\n",
      "  1.32708296e-01 -4.76142015e-01  1.30847308e+00  1.95013279e-01\n",
      "  4.00209988e-01 -3.37632337e-01  1.25647226e+00 -7.31969502e-01\n",
      "  6.60231551e-01 -3.50871891e-01 -9.39433360e-01 -4.89337217e-01\n",
      " -8.04591142e-01 -2.12697639e-01 -3.39140246e-01  3.12169936e-01\n",
      "  5.65152670e-01 -1.47420258e-01 -2.59053368e-02  2.89094204e-01\n",
      " -5.39879071e-01  7.08160020e-01  8.42224738e-01  2.03580797e-01\n",
      "  2.39470366e+00  9.17458938e-01 -1.12272471e-01 -3.62180447e-01\n",
      " -2.32182256e-01 -5.01728900e-01  1.12878515e+00 -6.97810030e-01\n",
      " -8.11221838e-02 -5.29296081e-01  1.04618286e+00 -1.41855603e+00\n",
      " -3.62499183e-01 -1.21905691e-01  3.19356421e-01  4.60902902e-01\n",
      " -2.15789892e-01  9.89072457e-01  3.14753779e-01  2.46765106e+00\n",
      " -1.50832149e+00  6.20600663e-01 -1.04513254e+00 -7.98008818e-01\n",
      "  1.98508459e+00  1.74481415e+00 -1.85618548e+00 -2.22773699e-01\n",
      " -6.58478477e-02 -2.13171211e+00 -4.88305113e-02  3.93341217e-01\n",
      "  2.17265145e-01 -1.99439377e+00  1.10770823e+00  2.44543977e-01\n",
      " -6.19120295e-02 -7.53892961e-01  7.11959017e-01  9.18269151e-01\n",
      " -4.82093139e-01  8.95876126e-02  1.00000000e+02  1.00000000e+02]\n"
     ]
    },
    {
     "data": {
      "image/png": "[encoded data removed]",
      "text/plain": [
       "<Figure size 432x288 with 1 Axes>"
      ]
     },
     "metadata": {
      "needs_background": "light"
     },
     "output_type": "display_data"
    }
   ],
   "source": [
    "data[98:100] = 100 # 2개의 이상치 입력\n",
    "print('Outlier inserted data:\\n', data)\n",
    "plt.hist(data)\n",
    "plt.show()    # 정규성이 없는 그래프(data)다."
   ]
  },
  {
   "cell_type": "code",
   "execution_count": 31,
   "metadata": {},
   "outputs": [
    {
     "name": "stdout",
     "output_type": "stream",
     "text": [
      "Numpy Standardized data: \n",
      " [-0.05414927 -0.09811235 -0.25937343 -0.14973341 -0.10481359 -0.20050124\n",
      " -0.13019562 -0.14139227 -0.14882924 -0.16159012 -0.11824629 -0.06331907\n",
      " -0.21797641 -0.07578546 -0.13282648 -0.11738235 -0.23021263 -0.13949564\n",
      " -0.04323885 -0.2261611  -0.29021269 -0.27349537 -0.13015577  0.02099156\n",
      " -0.06897907 -0.02982217 -0.14206275 -0.04941206 -0.1684843  -0.10539365\n",
      " -0.1682039  -0.18831923 -0.13966888 -0.18310001 -0.05579802 -0.13522447\n",
      " -0.12058717 -0.17321969 -0.0595074  -0.20134896 -0.10203905 -0.17416411\n",
      " -0.21614798 -0.18404126 -0.20652928 -0.16430773 -0.17332726 -0.12686734\n",
      " -0.10882131 -0.15965129 -0.15098327 -0.1285134  -0.18764656 -0.09862017\n",
      " -0.08905693 -0.13461333  0.02168608 -0.08369024 -0.15714409 -0.17497079\n",
      " -0.16569762 -0.1849252  -0.06861571 -0.19891226 -0.15492205 -0.18689165\n",
      " -0.07450798 -0.25032525 -0.17499352 -0.15783126 -0.1263547  -0.11625776\n",
      " -0.1645283  -0.07858183 -0.12668302  0.02688964 -0.25672849 -0.10486604\n",
      " -0.22368782 -0.20605974 -0.00753328 -0.0246725  -0.28154268 -0.16502648\n",
      " -0.15383249 -0.30119682 -0.15261859 -0.12107714 -0.13363718 -0.29140149\n",
      " -0.07011919 -0.1316913  -0.15355173 -0.20291282 -0.09834917 -0.08363245\n",
      " -0.18352452 -0.14274481  6.98416665  6.98416665]\n"
     ]
    },
    {
     "data": {
      "image/png": "[encoded data removed]",
      "text/plain": [
       "<Figure size 432x288 with 1 Axes>"
      ]
     },
     "metadata": {
      "needs_background": "light"
     },
     "output_type": "display_data"
    }
   ],
   "source": [
    "data_std_np = (data - np.mean(data, axis = 0))/np.std(data, axis= 0)\n",
    "data_std_np\n",
    "print('Numpy Standardized data: \\n', data_std_np)\n",
    "# [..., 100  100] -> [..., 6.98416665  6.98416665]\n",
    "plt.hist(data_std_np)\n",
    "plt.show()"
   ]
  },
  {
   "cell_type": "code",
   "execution_count": 33,
   "metadata": {},
   "outputs": [
    {
     "name": "stdout",
     "output_type": "stream",
     "text": [
      "zoomin data:\n",
      " [-0.05414927 -0.09811235 -0.25937343 -0.14973341 -0.10481359 -0.20050124\n",
      " -0.13019562 -0.14139227 -0.14882924 -0.16159012 -0.11824629 -0.06331907\n",
      " -0.21797641 -0.07578546 -0.13282648 -0.11738235 -0.23021263 -0.13949564\n",
      " -0.04323885 -0.2261611  -0.29021269 -0.27349537 -0.13015577  0.02099156\n",
      " -0.06897907 -0.02982217 -0.14206275 -0.04941206 -0.1684843  -0.10539365\n",
      " -0.1682039  -0.18831923 -0.13966888 -0.18310001 -0.05579802 -0.13522447\n",
      " -0.12058717 -0.17321969 -0.0595074  -0.20134896 -0.10203905 -0.17416411\n",
      " -0.21614798 -0.18404126 -0.20652928 -0.16430773 -0.17332726 -0.12686734\n",
      " -0.10882131 -0.15965129 -0.15098327 -0.1285134  -0.18764656 -0.09862017\n",
      " -0.08905693 -0.13461333  0.02168608 -0.08369024 -0.15714409 -0.17497079\n",
      " -0.16569762 -0.1849252  -0.06861571 -0.19891226 -0.15492205 -0.18689165\n",
      " -0.07450798 -0.25032525 -0.17499352 -0.15783126 -0.1263547  -0.11625776\n",
      " -0.1645283  -0.07858183 -0.12668302  0.02688964 -0.25672849 -0.10486604\n",
      " -0.22368782 -0.20605974 -0.00753328 -0.0246725  -0.28154268 -0.16502648\n",
      " -0.15383249 -0.30119682 -0.15261859 -0.12107714 -0.13363718 -0.29140149\n",
      " -0.07011919 -0.1316913  -0.15355173 -0.20291282 -0.09834917 -0.08363245\n",
      " -0.18352452 -0.14274481]\n"
     ]
    },
    {
     "data": {
      "text/plain": [
       "(array([ 5.,  3.,  8., 15., 22., 20., 10.,  9.,  3.,  3.]),\n",
       " array([-0.30119682, -0.26838818, -0.23557953, -0.20277088, -0.16996224,\n",
       "        -0.13715359, -0.10434494, -0.0715363 , -0.03872765, -0.005919  ,\n",
       "         0.02688964]),\n",
       " <a list of 10 Patch objects>)"
      ]
     },
     "execution_count": 33,
     "metadata": {},
     "output_type": "execute_result"
    },
    {
     "data": {
      "image/png": "[encoded data removed]",
      "text/plain": [
       "<Figure size 432x288 with 1 Axes>"
      ]
     },
     "metadata": {
      "needs_background": "light"
     },
     "output_type": "display_data"
    }
   ],
   "source": [
    "# zoom-in\n",
    "data_std_np_zoomin = data_std_np[data_std_np<5]\n",
    "print('zoomin data:\\n', data_std_np_zoomin)\n",
    "plt.hist(data_std_np_zoomin)\n"
   ]
  },
  {
   "cell_type": "code",
   "execution_count": 48,
   "metadata": {},
   "outputs": [
    {
     "name": "stdout",
     "output_type": "stream",
     "text": [
      "[[-0.05414927]\n",
      " [-0.09811235]\n",
      " [-0.25937343]\n",
      " [-0.14973341]\n",
      " [-0.10481359]\n",
      " [-0.20050124]\n",
      " [-0.13019562]\n",
      " [-0.14139227]\n",
      " [-0.14882924]\n",
      " [-0.16159012]\n",
      " [-0.11824629]\n",
      " [-0.06331907]\n",
      " [-0.21797641]\n",
      " [-0.07578546]\n",
      " [-0.13282648]\n",
      " [-0.11738235]\n",
      " [-0.23021263]\n",
      " [-0.13949564]\n",
      " [-0.04323885]\n",
      " [-0.2261611 ]\n",
      " [-0.29021269]\n",
      " [-0.27349537]\n",
      " [-0.13015577]\n",
      " [ 0.02099156]\n",
      " [-0.06897907]\n",
      " [-0.02982217]\n",
      " [-0.14206275]\n",
      " [-0.04941206]\n",
      " [-0.1684843 ]\n",
      " [-0.10539365]\n",
      " [-0.1682039 ]\n",
      " [-0.18831923]\n",
      " [-0.13966888]\n",
      " [-0.18310001]\n",
      " [-0.05579802]\n",
      " [-0.13522447]\n",
      " [-0.12058717]\n",
      " [-0.17321969]\n",
      " [-0.0595074 ]\n",
      " [-0.20134896]\n",
      " [-0.10203905]\n",
      " [-0.17416411]\n",
      " [-0.21614798]\n",
      " [-0.18404126]\n",
      " [-0.20652928]\n",
      " [-0.16430773]\n",
      " [-0.17332726]\n",
      " [-0.12686734]\n",
      " [-0.10882131]\n",
      " [-0.15965129]\n",
      " [-0.15098327]\n",
      " [-0.1285134 ]\n",
      " [-0.18764656]\n",
      " [-0.09862017]\n",
      " [-0.08905693]\n",
      " [-0.13461333]\n",
      " [ 0.02168608]\n",
      " [-0.08369024]\n",
      " [-0.15714409]\n",
      " [-0.17497079]\n",
      " [-0.16569762]\n",
      " [-0.1849252 ]\n",
      " [-0.06861571]\n",
      " [-0.19891226]\n",
      " [-0.15492205]\n",
      " [-0.18689165]\n",
      " [-0.07450798]\n",
      " [-0.25032525]\n",
      " [-0.17499352]\n",
      " [-0.15783126]\n",
      " [-0.1263547 ]\n",
      " [-0.11625776]\n",
      " [-0.1645283 ]\n",
      " [-0.07858183]\n",
      " [-0.12668302]\n",
      " [ 0.02688964]\n",
      " [-0.25672849]\n",
      " [-0.10486604]\n",
      " [-0.22368782]\n",
      " [-0.20605974]\n",
      " [-0.00753328]\n",
      " [-0.0246725 ]\n",
      " [-0.28154268]\n",
      " [-0.16502648]\n",
      " [-0.15383249]\n",
      " [-0.30119682]\n",
      " [-0.15261859]\n",
      " [-0.12107714]\n",
      " [-0.13363718]\n",
      " [-0.29140149]\n",
      " [-0.07011919]\n",
      " [-0.1316913 ]\n",
      " [-0.15355173]\n",
      " [-0.20291282]\n",
      " [-0.09834917]\n",
      " [-0.08363245]\n",
      " [-0.18352452]\n",
      " [-0.14274481]\n",
      " [ 6.98416665]\n",
      " [ 6.98416665]]\n",
      "zoomin: \n",
      " [-0.05414927 -0.09811235 -0.25937343 -0.14973341 -0.10481359 -0.20050124\n",
      " -0.13019562 -0.14139227 -0.14882924 -0.16159012 -0.11824629 -0.06331907\n",
      " -0.21797641 -0.07578546 -0.13282648 -0.11738235 -0.23021263 -0.13949564\n",
      " -0.04323885 -0.2261611  -0.29021269 -0.27349537 -0.13015577  0.02099156\n",
      " -0.06897907 -0.02982217 -0.14206275 -0.04941206 -0.1684843  -0.10539365\n",
      " -0.1682039  -0.18831923 -0.13966888 -0.18310001 -0.05579802 -0.13522447\n",
      " -0.12058717 -0.17321969 -0.0595074  -0.20134896 -0.10203905 -0.17416411\n",
      " -0.21614798 -0.18404126 -0.20652928 -0.16430773 -0.17332726 -0.12686734\n",
      " -0.10882131 -0.15965129 -0.15098327 -0.1285134  -0.18764656 -0.09862017\n",
      " -0.08905693 -0.13461333  0.02168608 -0.08369024 -0.15714409 -0.17497079\n",
      " -0.16569762 -0.1849252  -0.06861571 -0.19891226 -0.15492205 -0.18689165\n",
      " -0.07450798 -0.25032525 -0.17499352 -0.15783126 -0.1263547  -0.11625776\n",
      " -0.1645283  -0.07858183 -0.12668302  0.02688964 -0.25672849 -0.10486604\n",
      " -0.22368782 -0.20605974 -0.00753328 -0.0246725  -0.28154268 -0.16502648\n",
      " -0.15383249 -0.30119682 -0.15261859 -0.12107714 -0.13363718 -0.29140149\n",
      " -0.07011919 -0.1316913  -0.15355173 -0.20291282 -0.09834917 -0.08363245\n",
      " -0.18352452 -0.14274481]\n"
     ]
    },
    {
     "data": {
      "image/png": "[encoded data removed]",
      "text/plain": [
       "<Figure size 432x288 with 1 Axes>"
      ]
     },
     "metadata": {
      "needs_background": "light"
     },
     "output_type": "display_data"
    }
   ],
   "source": [
    "# Scikit-learn 사용\n",
    "# 원시 데이터의 차원을 바꿔야 한다. scikit learn은 2차원 이상만 사용 가능\n",
    "data.shape # (100, )\n",
    "data = data.reshape(-1, 1) # 1차원 배열을 2차원으로 바꿈\n",
    "data.shape # (100, 1)\n",
    "data_std_ski = StandardScaler().fit_transform(data)\n",
    "print(data_std_ski)\n",
    "data_stand_ski_zoomin = data_std_ski[data_std_ski < 5]\n",
    "print('zoomin: \\n', data_stand_ski_zoomin)\n",
    "plt.hist(data_stand_ski_zoomin)\n",
    "plt.show()"
   ]
  },
  {
   "cell_type": "code",
   "execution_count": null,
   "metadata": {},
   "outputs": [],
   "source": []
  }
 ],
 "metadata": {
  "kernelspec": {
   "display_name": "Python 3",
   "language": "python",
   "name": "python3"
  },
  "language_info": {
   "codemirror_mode": {
    "name": "ipython",
    "version": 3
   },
   "file_extension": ".py",
   "mimetype": "text/x-python",
   "name": "python",
   "nbconvert_exporter": "python",
   "pygments_lexer": "ipython3",
   "version": "3.7.3"
  }
 },
 "nbformat": 4,
 "nbformat_minor": 2
}
