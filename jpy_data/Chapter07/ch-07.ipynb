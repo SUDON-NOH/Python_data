{
 "cells": [
  {
   "cell_type": "markdown",
   "metadata": {},
   "source": [
    "# 7장 : 신호처리와 시계열"
   ]
  },
  {
   "cell_type": "code",
   "execution_count": null,
   "metadata": {},
   "outputs": [],
   "source": [
    "import pkgutil as pu\n",
    "import numpy as np\n",
    "import matplotlib as mpl\n",
    "import scipy as sp\n",
    "import pandas as pd\n",
    "import pydoc\n",
    "import statsmodels as sm\n",
    "from matplotlib.pylab import rcParams\n",
    "rcParams['figure.figsize']=15,6"
   ]
  },
  {
   "cell_type": "code",
   "execution_count": null,
   "metadata": {},
   "outputs": [],
   "source": [
    "print(\"Statsmodels version\", sm.__version__)\n",
    "\n",
    "def clean(astr):\n",
    "   s = astr\n",
    "   # remove multiple spaces\n",
    "   s = ' '.join(s.split())\n",
    "   s = s.replace('=','')\n",
    "\n",
    "   return s\n",
    "\n",
    "def print_desc(prefix, pkg_path):\n",
    "   for pkg in pu.iter_modules(path=pkg_path):\n",
    "      name = prefix + \".\" + pkg[1]\n",
    "\n",
    "      if pkg[2] == True:\n",
    "         try:\n",
    "            docstr = pydoc.plain(pydoc.render_doc(name))\n",
    "            docstr = clean(docstr)\n",
    "            start = docstr.find(\"DESCRIPTION\")\n",
    "            docstr = docstr[start: start + 140]\n",
    "            print(name, docstr)\n",
    "         except:\n",
    "            continue\n",
    "\n",
    "print(\"\\n\")\n",
    "print_desc(\"statsmodels\", sm.__path__)"
   ]
  },
  {
   "cell_type": "markdown",
   "metadata": {},
   "source": [
    "## 이동평균법(Moving averages)"
   ]
  },
  {
   "cell_type": "code",
   "execution_count": null,
   "metadata": {},
   "outputs": [],
   "source": [
    "import matplotlib.pyplot as plt\n",
    "import statsmodels.api as sm\n",
    "from pandas.stats.moments import rolling_mean\n",
    "\n",
    "data_loader = sm.datasets.sunspots.load_pandas()\n",
    "df = data_loader.data\n",
    "year_range = df[\"YEAR\"].values\n",
    "plt.plot(year_range, df[\"SUNACTIVITY\"].values, label=\"Original\")\n",
    "plt.plot(year_range, df.rolling(window=11).mean()[\"SUNACTIVITY\"].values, label=\"SMA 11\")\n",
    "plt.plot(year_range, df.rolling(window=22).mean()[\"SUNACTIVITY\"].values, label=\"SMA 22\")\n",
    "plt.legend()\n",
    "plt.show()"
   ]
  },
  {
   "cell_type": "markdown",
   "metadata": {},
   "source": [
    "## 윈도우 함수(Window function)"
   ]
  },
  {
   "cell_type": "code",
   "execution_count": null,
   "metadata": {},
   "outputs": [],
   "source": [
    "import matplotlib.pyplot as plt\n",
    "import statsmodels.api as sm\n",
    "from pandas.stats.moments import rolling_window\n",
    "import pandas as pd\n",
    "\n",
    "data_loader = sm.datasets.sunspots.load_pandas()\n",
    "df = data_loader.data.tail(150)\n",
    "df = pd.DataFrame({'SUNACTIVITY':df['SUNACTIVITY'].values}, index=df['YEAR'])\n",
    "ax = df.plot()\n",
    "\n",
    "def plot_window(win_type):\n",
    "    df2 = rolling_window(df, 22, win_type)\n",
    "    df2.columns = [win_type]\n",
    "    df2.plot(ax=ax)\n",
    "\n",
    "plot_window('boxcar')\n",
    "plot_window('triang')\n",
    "plot_window('blackman')\n",
    "plot_window('hanning')\n",
    "plot_window('bartlett')\n",
    "plt.show()"
   ]
  },
  {
   "cell_type": "markdown",
   "metadata": {},
   "source": [
    "## 공적분(Cointegration)"
   ]
  },
  {
   "cell_type": "code",
   "execution_count": null,
   "metadata": {},
   "outputs": [],
   "source": [
    "import statsmodels.api as sm\n",
    "from pandas.stats.moments import rolling_window\n",
    "import pandas as pd\n",
    "import statsmodels.tsa.stattools as ts\n",
    "import numpy as np\n",
    "\n",
    "def calc_adf(x, y):\n",
    "    result = sm.OLS(x, y).fit()    \n",
    "    return ts.adfuller(result.resid)\n",
    "\n",
    "data_loader = sm.datasets.sunspots.load_pandas()\n",
    "data = data_loader.data.values\n",
    "N = len(data)\n",
    "\n",
    "t = np.linspace(-2 * np.pi, 2 * np.pi, N)\n",
    "sine = np.sin(np.sin(t))\n",
    "print(\"Self ADF\", calc_adf(sine, sine))\n",
    "\n",
    "noise = np.random.normal(0, .01, N)\n",
    "print(\"ADF sine with noise\", calc_adf(sine, sine + noise))\n",
    "\n",
    "cosine = 100 * np.cos(t) + 10\n",
    "print(\"ADF sine vs cosine with noise\", calc_adf(sine, cosine + noise))\n",
    "\n",
    "print(\"Sine vs sunspots\", calc_adf(sine, data))"
   ]
  },
  {
   "cell_type": "markdown",
   "metadata": {},
   "source": [
    "## 자기 상관(Autocorrelation) "
   ]
  },
  {
   "cell_type": "code",
   "execution_count": null,
   "metadata": {},
   "outputs": [],
   "source": [
    "import numpy as np\n",
    "import pandas as pd\n",
    "import statsmodels.api as sm\n",
    "import matplotlib.pyplot as plt\n",
    "from pandas.tools.plotting import autocorrelation_plot\n",
    "\n",
    "data_loader = sm.datasets.sunspots.load_pandas()\n",
    "data = data_loader.data[\"SUNACTIVITY\"].values\n",
    "y = data - np.mean(data)\n",
    "norm = np.sum(y ** 2)\n",
    "correlated = np.correlate(y, y, mode='full')/norm\n",
    "res = correlated[int(len(correlated)/2):]\n",
    "\n",
    "print(np.argsort(res)[-5:])\n",
    "plt.plot(res)\n",
    "plt.grid(True)\n",
    "plt.xlabel(\"Lag\")\n",
    "plt.ylabel(\"Autocorrelation\")\n",
    "plt.show()\n",
    "autocorrelation_plot(data)\n",
    "plt.show()"
   ]
  },
  {
   "cell_type": "markdown",
   "metadata": {},
   "source": [
    "## 자기회귀(Autoregressive) 모델 "
   ]
  },
  {
   "cell_type": "code",
   "execution_count": null,
   "metadata": {},
   "outputs": [],
   "source": [
    "from scipy.optimize import leastsq\n",
    "import statsmodels.api as sm\n",
    "import matplotlib.pyplot as plt\n",
    "import numpy as np\n",
    "\n",
    "def model(p, x1, x10):\n",
    "   p1, p10 = p\n",
    "   return p1 * x1 + p10 * x10\n",
    "\n",
    "def error(p, data, x1, x10):\n",
    "   return data - model(p, x1, x10)\n",
    "\n",
    "def fit(data):\n",
    "   p0 = [.5, 0.5]\n",
    "   params = leastsq(error, p0, args=(data[10:], data[9:-1], \n",
    "data[:-10]))[0]\n",
    "   return params\n",
    "\n",
    "data_loader = sm.datasets.sunspots.load_pandas()\n",
    "sunspots = data_loader.data[\"SUNACTIVITY\"].values\n",
    "\n",
    "cutoff = int(.9 * len(sunspots))\n",
    "params = fit(sunspots[:cutoff])\n",
    "print(\"Params\", params)\n",
    "\n",
    "pred = params[0] * sunspots[cutoff-1:-1] + params[1] * sunspots[cutoff-10:-10]\n",
    "actual = sunspots[cutoff:]\n",
    "print(\"Root mean square error\", np.sqrt(np.mean((actual - pred) ** 2)))\n",
    "print(\"Mean absolute error\", np.mean(np.abs(actual - pred)))\n",
    "print(\"Mean absolute percentage error\", 100 * \n",
    "np.mean(np.abs(actual - pred)/actual))\n",
    "mid = (actual + pred)/2\n",
    "print(\"Symmetric Mean absolute percentage error\", 100 * \n",
    "np.mean(np.abs(actual - pred)/mid))\n",
    "print(\"Coefficient of determination\", 1 - ((actual - pred) ** \n",
    "2).sum()/ ((actual - actual.mean()) ** 2).sum())\n",
    "year_range = data_loader.data[\"YEAR\"].values[cutoff:]\n",
    "plt.plot(year_range, actual, 'o', label=\"Sunspots\")\n",
    "plt.plot(year_range, pred, 'x', label=\"Prediction\")\n",
    "plt.grid(True)\n",
    "plt.xlabel(\"YEAR\")\n",
    "plt.ylabel(\"SUNACTIVITY\")\n",
    "plt.legend()\n",
    "plt.show()"
   ]
  },
  {
   "cell_type": "markdown",
   "metadata": {},
   "source": [
    "## ARMA 모델 "
   ]
  },
  {
   "cell_type": "code",
   "execution_count": null,
   "metadata": {},
   "outputs": [],
   "source": [
    "import pandas as pd\n",
    "import matplotlib.pyplot as plt\n",
    "import statsmodels.api as sm\n",
    "import datetime\n",
    "\n",
    "data_loader = sm.datasets.sunspots.load_pandas()\n",
    "df = data_loader.data\n",
    "years = df[\"YEAR\"].values.astype(int)\n",
    "df.index = pd.Index(sm.tsa.datetools.dates_from_range(str(years[0]), \n",
    "str(years[-1])))\n",
    "del df[\"YEAR\"]\n",
    "\n",
    "model = sm.tsa.ARMA(df, (10,1)).fit()\n",
    "prediction = model.predict('1975', str(years[-1]), dynamic=True)\n",
    "\n",
    "df['1975':].plot()\n",
    "prediction.plot(style='--', label='Prediction')\n",
    "plt.legend()\n",
    "plt.show()"
   ]
  },
  {
   "cell_type": "markdown",
   "metadata": {},
   "source": [
    "## 주기적인 신호 발생하기 "
   ]
  },
  {
   "cell_type": "code",
   "execution_count": null,
   "metadata": {},
   "outputs": [],
   "source": [
    "from scipy.optimize import leastsq\n",
    "import statsmodels.api as sm\n",
    "import matplotlib.pyplot as plt\n",
    "import numpy as np\n",
    "def model(p, t):\n",
    "   C, p1, f1, phi1 , p2, f2, phi2, p3, f3, phi3 = p\n",
    "   return C + p1 * np.sin(f1 * t + phi1) + p2 * np.sin(f2 * t + \n",
    "phi2) +p3 * np.sin(f3 * t + phi3)\n",
    "\n",
    "\n",
    "def error(p, y, t):\n",
    "   return y - model(p, t)\n",
    "\n",
    "def fit(y, t):\n",
    "   p0 = [y.mean(), 0, 2 * np.pi/11, 0, 0, 2 * np.pi/22, 0, 0, 2 * \n",
    "np.pi/100, 0]\n",
    "   params = leastsq(error, p0, args=(y, t))[0]\n",
    "   return params\n",
    "\n",
    "data_loader = sm.datasets.sunspots.load_pandas()\n",
    "sunspots = data_loader.data[\"SUNACTIVITY\"].values\n",
    "years = data_loader.data[\"YEAR\"].values\n",
    "\n",
    "cutoff = int(.9 * len(sunspots))\n",
    "params = fit(sunspots[:cutoff], years[:cutoff])\n",
    "print(\"Params\", params)\n",
    "\n",
    "pred = model(params, years[cutoff:])\n",
    "actual = sunspots[cutoff:]\n",
    "print(\"Root mean square error\", np.sqrt(np.mean((actual - pred) ** \n",
    "2)))\n",
    "print(\"Mean absolute error\", np.mean(np.abs(actual - pred)))\n",
    "print(\"Mean absolute percentage error\", 100 * \n",
    "np.mean(np.abs(actual - pred)/actual))\n",
    "mid = (actual + pred)/2\n",
    "print(\"Symmetric Mean absolute percentage error\", 100 * \n",
    "np.mean(np.abs(actual - pred)/mid))\n",
    "print(\"Coefficient of determination\", 1 - ((actual - pred) ** \n",
    "2).sum()/ ((actual - actual.mean()) ** 2).sum())\n",
    "year_range = data_loader.data[\"YEAR\"].values[cutoff:]\n",
    "plt.plot(year_range, actual, 'o', label=\"Sunspots\")\n",
    "plt.plot(year_range, pred, 'x', label=\"Prediction\")\n",
    "plt.grid(True)\n",
    "plt.xlabel(\"YEAR\")\n",
    "plt.ylabel(\"SUNACTIVITY\")\n",
    "plt.legend()\n",
    "plt.show()"
   ]
  },
  {
   "cell_type": "markdown",
   "metadata": {},
   "source": [
    "## 푸리에 분석(Fourier Analysis) "
   ]
  },
  {
   "cell_type": "code",
   "execution_count": null,
   "metadata": {},
   "outputs": [],
   "source": [
    "import numpy as np\n",
    "import statsmodels.api as sm\n",
    "import matplotlib.pyplot as plt\n",
    "from scipy.fftpack import rfft\n",
    "from scipy.fftpack import fftshift\n",
    "\n",
    "data_loader = sm.datasets.sunspots.load_pandas()\n",
    "sunspots = data_loader.data[\"SUNACTIVITY\"].values\n",
    "\n",
    "t = np.linspace(-2 * np.pi, 2 * np.pi, len(sunspots))\n",
    "mid = np.ptp(sunspots)/2\n",
    "sine = mid + mid * np.sin(np.sin(t))\n",
    "\n",
    "sine_fft = np.abs(fftshift(rfft(sine)))\n",
    "print(\"Index of max sine FFT\", np.argsort(sine_fft)[-5:])\n",
    "\n",
    "transformed = np.abs(fftshift(rfft(sunspots)))\n",
    "print(\"Indices of max sunspots FFT\", np.argsort(transformed)[-5:])\n",
    "\n",
    "plt.subplot(311)\n",
    "plt.plot(sunspots, label=\"Sunspots\")\n",
    "plt.plot(sine, lw=2, label=\"Sine\")\n",
    "plt.grid(True)\n",
    "plt.legend()\n",
    "plt.subplot(312)\n",
    "plt.plot(transformed, label=\"Transformed Sunspots\")\n",
    "plt.grid(True)\n",
    "plt.legend()\n",
    "plt.subplot(313)\n",
    "plt.plot(sine_fft, lw=2, label=\"Transformed Sine\")\n",
    "plt.grid(True)\n",
    "plt.legend()\n",
    "plt.show()"
   ]
  },
  {
   "cell_type": "markdown",
   "metadata": {},
   "source": [
    "## 스펙트럼 분석(Spectral Analysis) "
   ]
  },
  {
   "cell_type": "code",
   "execution_count": null,
   "metadata": {},
   "outputs": [],
   "source": [
    "import numpy as np\n",
    "import statsmodels.api as sm\n",
    "import matplotlib.pyplot as plt\n",
    "from scipy.fftpack import rfft\n",
    "from scipy.fftpack import fftshift\n",
    "\n",
    "data_loader = sm.datasets.sunspots.load_pandas()\n",
    "sunspots = data_loader.data[\"SUNACTIVITY\"].values\n",
    "\n",
    "transformed = fftshift(rfft(sunspots))\n",
    "\n",
    "plt.subplot(311)\n",
    "plt.plot(sunspots, label=\"Sunspots\")\n",
    "plt.legend()\n",
    "plt.subplot(312)\n",
    "plt.plot(transformed ** 2, label=\"Power Spectrum\")\n",
    "plt.legend()\n",
    "plt.subplot(313)\n",
    "plt.plot(np.angle(transformed), label=\"Phase Spectrum\")\n",
    "plt.grid(True)\n",
    "plt.legend()\n",
    "plt.show()"
   ]
  },
  {
   "cell_type": "markdown",
   "metadata": {},
   "source": [
    "## 필터링(Filtering) "
   ]
  },
  {
   "cell_type": "code",
   "execution_count": null,
   "metadata": {},
   "outputs": [],
   "source": [
    "import statsmodels.api as sm\n",
    "import matplotlib.pyplot as plt\n",
    "from scipy.signal import medfilt\n",
    "from scipy.signal import wiener\n",
    "from scipy.signal import detrend\n",
    "\n",
    "data_loader = sm.datasets.sunspots.load_pandas()\n",
    "sunspots = data_loader.data[\"SUNACTIVITY\"].values\n",
    "years = data_loader.data[\"YEAR\"].values\n",
    "\n",
    "plt.plot(years, sunspots, label=\"SUNACTIVITY\")\n",
    "plt.plot(years, medfilt(sunspots, 11), lw=2, label=\"Median\")\n",
    "plt.plot(years, wiener(sunspots, 11), '--', lw=2, label=\"Wiener\")\n",
    "plt.plot(years, detrend(sunspots), lw=3, label=\"Detrend\")\n",
    "plt.xlabel(\"YEAR\")\n",
    "plt.grid(True)\n",
    "plt.legend()\n",
    "plt.show()"
   ]
  }
 ],
 "metadata": {
  "kernelspec": {
   "display_name": "Python 3",
   "language": "python",
   "name": "python3"
  },
  "language_info": {
   "codemirror_mode": {
    "name": "ipython",
    "version": 3
   },
   "file_extension": ".py",
   "mimetype": "text/x-python",
   "name": "python",
   "nbconvert_exporter": "python",
   "pygments_lexer": "ipython3",
   "version": "3.6.1"
  }
 },
 "nbformat": 4,
 "nbformat_minor": 2
}
