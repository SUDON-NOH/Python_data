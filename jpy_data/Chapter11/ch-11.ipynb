{
 "cells": [
  {
   "cell_type": "markdown",
   "metadata": {},
   "source": [
    "# 11장 : 파이썬 외의 서비스 환경과 클라우드 컴퓨팅"
   ]
  },
  {
   "cell_type": "markdown",
   "metadata": {},
   "source": [
    "# Matlab and Octave"
   ]
  },
  {
   "cell_type": "code",
   "execution_count": null,
   "metadata": {},
   "outputs": [],
   "source": [
    "import statsmodels.api as sm\n",
    "from scipy.io import savemat\n",
    "\n",
    "data_loader = sm.datasets.sunspots.load_pandas()\n",
    "df = data_loader.data\n",
    "savemat(\"sunspots\", {\"sunspots\": df.values})"
   ]
  },
  {
   "cell_type": "markdown",
   "metadata": {},
   "source": [
    "# R"
   ]
  },
  {
   "cell_type": "code",
   "execution_count": null,
   "metadata": {},
   "outputs": [],
   "source": [
    "import rpy2.robjects as ro\n",
    "from rpy2.robjects import pandas2ri\n",
    "from rpy2.robjects import r\n",
    "\n",
    "from scipy.stats import kruskal\n",
    "import matplotlib.pyplot as plt\n",
    "import numpy as np\n",
    "from scipy.constants import c\n",
    "\n",
    "pandas2ri.activate()\n",
    "r.data('morley')\n",
    "df = r['morley']\n",
    "\n",
    "df['Speed'] = df['Speed'] + 299000\n",
    "\n",
    "samples = dict(list(df.groupby('Expt')))\n",
    "samples = np.array([samples[i]['Speed'].values for i in \n",
    "samples.keys()])\n",
    "print(\"Kruskal\", kruskal(samples[0], samples[1], samples[2], samples[3], samples[4]))\n",
    "\n",
    "plt.title('Speed of light')\n",
    "plt.plot(samples.min(axis=1), 'x', label='min')\n",
    "plt.plot(samples.mean(axis=1), 'o', label='mean')\n",
    "plt.plot(np.ones(5) * samples.mean(), '--', label='All mean')\n",
    "plt.plot(np.ones(5) * c/1000, lw=2, label='Actual')\n",
    "plt.plot(samples.max(axis=1), 'v', label='max')\n",
    "plt.grid(True)\n",
    "plt.legend()\n",
    "plt.show()"
   ]
  },
  {
   "cell_type": "markdown",
   "metadata": {},
   "source": [
    "# Java"
   ]
  },
  {
   "cell_type": "code",
   "execution_count": null,
   "metadata": {},
   "outputs": [],
   "source": [
    "import jpype\n",
    "import numpy as np\n",
    "from numpy import random\n",
    "jpype.startJVM(jpype.getDefaultJVMPath())\n",
    "\n",
    "random.seed(44)\n",
    "values = np.random.randn(7)\n",
    "java_array = jpype.JArray(jpype.JDouble, 1)(values.tolist())\n",
    "\n",
    "for item in java_array:\n",
    "   jpype.java.lang.System.out.println(item)\n",
    "\n",
    "jpype.shutdownJVM()"
   ]
  },
  {
   "cell_type": "code",
   "execution_count": null,
   "metadata": {
    "collapsed": true
   },
   "outputs": [],
   "source": []
  }
 ],
 "metadata": {
  "kernelspec": {
   "display_name": "Python 3",
   "language": "python",
   "name": "python3"
  },
  "language_info": {
   "codemirror_mode": {
    "name": "ipython",
    "version": 3
   },
   "file_extension": ".py",
   "mimetype": "text/x-python",
   "name": "python",
   "nbconvert_exporter": "python",
   "pygments_lexer": "ipython3",
   "version": "3.6.1"
  }
 },
 "nbformat": 4,
 "nbformat_minor": 2
}
