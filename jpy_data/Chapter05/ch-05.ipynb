{
 "cells": [
  {
   "cell_type": "markdown",
   "metadata": {},
   "source": [
    "# 5장: 데이터 검색과 처리, 저장"
   ]
  },
  {
   "cell_type": "markdown",
   "metadata": {},
   "source": [
    "# CSV 파일 쓰기"
   ]
  },
  {
   "cell_type": "code",
   "execution_count": null,
   "metadata": {},
   "outputs": [],
   "source": [
    "import numpy as np\n",
    "import pandas as pd\n",
    "\n",
    "np.random.seed(42)\n",
    "\n",
    "a = np.random.randn(3, 4)\n",
    "a[2][2] = np.nan\n",
    "print(a)\n",
    "np.savetxt('np.csv', a, fmt='%.2f', delimiter=',', header=\" #1, #2,  #3,  #4\")\n",
    "df = pd.DataFrame(a)\n",
    "print(df)\n",
    "df.to_csv('pd.csv', float_format='%.2f', na_rep=\"NAN!\")"
   ]
  },
  {
   "cell_type": "markdown",
   "metadata": {},
   "source": [
    "# .npy와 피클(pickle)포맷 비교하기"
   ]
  },
  {
   "cell_type": "code",
   "execution_count": null,
   "metadata": {},
   "outputs": [],
   "source": [
    "import numpy as np\n",
    "import pandas as pd\n",
    "from tempfile import NamedTemporaryFile\n",
    "from os.path import getsize\n",
    "\n",
    "np.random.seed(42)\n",
    "a = np.random.randn(365, 4)\n",
    "\n",
    "tmpf = NamedTemporaryFile()\n",
    "np.savetxt(tmpf, a, delimiter=',')\n",
    "print(\"Size CSV file\", getsize(tmpf.name))\n",
    "\n",
    "tmpf = NamedTemporaryFile()\n",
    "np.save(tmpf, a)\n",
    "tmpf.seek(0)\n",
    "loaded = np.load(tmpf)\n",
    "print(\"Shape\", loaded.shape)\n",
    "print(\"Size .npy file\", getsize(tmpf.name))\n",
    "\n",
    "df = pd.DataFrame(a)\n",
    "df.to_pickle(tmpf.name)\n",
    "print(\"Size pickled dataframe\", getsize(tmpf.name))\n",
    "print(\"DF from pickle\\n\", pd.read_pickle(tmpf.name))\n"
   ]
  },
  {
   "cell_type": "code",
   "execution_count": null,
   "metadata": {
    "collapsed": true
   },
   "outputs": [],
   "source": [
    "import numpy as np\n",
    "import tables\n",
    "from tempfile import NamedTemporaryFile\n",
    "from os.path import getsize\n",
    "\n",
    "np.random.seed(42)\n",
    "a = np.random.randn(365, 4)\n",
    "\n",
    "tmpf = NamedTemporaryFile()\n",
    "h5file = tables.open_file(tmpf.name, mode='w', title=\"NumPy Array\")\n",
    "root = h5file.root\n",
    "h5file.create_array(root, \"array\", a)\n",
    "h5file.close()\n",
    "\n",
    "h5file = tables.open_file(tmpf.name, \"r\")\n",
    "print(getsize(tmpf.name))\n",
    "\n",
    "for node in h5file.root:\n",
    "   b = node.read()\n",
    "   print(type(b), b.shape)\n",
    "\n",
    "h5file.close()"
   ]
  },
  {
   "cell_type": "markdown",
   "metadata": {},
   "source": [
    "# HDF5형태로 Pandas 데이터프레임 읽기 및 쓰기"
   ]
  },
  {
   "cell_type": "code",
   "execution_count": null,
   "metadata": {},
   "outputs": [],
   "source": [
    "import numpy as np\n",
    "import pandas as pd\n",
    "from tempfile import NamedTemporaryFile\n",
    "\n",
    "np.random.seed(42)\n",
    "a = np.random.randn(365, 4)\n",
    "\n",
    "tmpf = NamedTemporaryFile()\n",
    "store = pd.io.pytables.HDFStore(tmpf.name)\n",
    "print(store)\n",
    "\n",
    "df = pd.DataFrame(a)\n",
    "store['df'] = df\n",
    "print(store)\n",
    "\n",
    "print(\"Get\", store.get('df').shape)\n",
    "print(\"Lookup\", store['df'].shape)\n",
    "print( \"Dotted\", store.df.shape)\n",
    "\n",
    "del store['df']\n",
    "print(\"After del\\n\", store)\n",
    "\n",
    "print(\"Before close\", store.is_open)\n",
    "store.close()\n",
    "print(\"After close\", store.is_open)\n",
    "\n",
    "df.to_hdf('test.h5', 'data', format='table')\n",
    "print(pd.read_hdf('test.h5', 'data', where=['index>363']))"
   ]
  },
  {
   "cell_type": "markdown",
   "metadata": {},
   "source": [
    "# 엑셀로 읽기 및 쓰기"
   ]
  },
  {
   "cell_type": "code",
   "execution_count": null,
   "metadata": {},
   "outputs": [],
   "source": [
    "import numpy as np\n",
    "import pandas as pd\n",
    "from tempfile import NamedTemporaryFile\n",
    "\n",
    "np.random.seed(42)\n",
    "a = np.random.randn(365, 4)\n",
    "\n",
    "tmpf = NamedTemporaryFile(suffix='.xlsx')\n",
    "df = pd.DataFrame(a)\n",
    "print(tmpf.name)\n",
    "df.to_excel(tmpf.name, sheet_name='Random Data')\n",
    "print(\"Means\\n\", pd.read_excel(tmpf.name, 'Random Data').mean())"
   ]
  },
  {
   "cell_type": "markdown",
   "metadata": {},
   "source": [
    "# REST와 JSON 사용하기"
   ]
  },
  {
   "cell_type": "code",
   "execution_count": null,
   "metadata": {
    "collapsed": true
   },
   "outputs": [],
   "source": [
    "import json\n",
    "\n",
    "json_str = '{\"country\":\"Netherlands\",\"dma_code\":\"0\",\"timezone\":\"Europe\\/Amsterdam\",\"area_code\":\"0\",\"ip\":\"46.19.37.108\",\"asn\":\"AS196752\",\"continent_code\":\"EU\",\"isp\":\"Tilaa V.O.F.\",\"longitude\":5.75,\"latitude\":52.5,\"country_code\":\"NL\",\"country_code3\":\"NLD\"}'\n",
    "\n",
    "data = json.loads(json_str)\n",
    "print(\"Country\", data[\"country\"])\n",
    "data[\"country\"] = \"Brazil\"\n",
    "print(json.dumps(data))"
   ]
  },
  {
   "cell_type": "code",
   "execution_count": null,
   "metadata": {
    "collapsed": true
   },
   "outputs": [],
   "source": [
    "import pandas as pd\n",
    "\n",
    "json_str = '{\"country\":\"Netherlands\",\"dma_code\":\"0\",\"timezone\":\"Europe\\/Amsterdam\",\"area_code\":\"0\",\"ip\":\"46.19.37.108\",\"asn\":\"AS196752\",\"continent_code\":\"EU\",\"isp\":\"Tilaa V.O.F.\",\"longitude\":5.75,\"latitude\":52.5,\"country_code\":\"NL\",\"country_code3\":\"NLD\"}'\n",
    "\n",
    "data = pd.read_json(json_str, typ='series')\n",
    "print(\"Series\\n\", data)\n",
    "\n",
    "data[\"country\"] = \"Brazil\"\n",
    "print(\"New Series\\n\", data.to_json())"
   ]
  },
  {
   "cell_type": "markdown",
   "metadata": {},
   "source": [
    "# RSS와 Atom 피드(feed) 파싱(Parsing)"
   ]
  },
  {
   "cell_type": "code",
   "execution_count": null,
   "metadata": {
    "collapsed": true
   },
   "outputs": [],
   "source": [
    "import feedparser as fp\n",
    "\n",
    "rss = fp.parse(\"http://www.packtpub.com/rss.xml\")\n",
    "\n",
    "print(\"# Entries\", len(rss.entries))"
   ]
  },
  {
   "cell_type": "code",
   "execution_count": null,
   "metadata": {
    "collapsed": true
   },
   "outputs": [],
   "source": [
    "for i, entry in enumerate(rss.entries):\n",
    "   if \"Java\" in entry.summary:\n",
    "      print(i, entry.title)\n",
    "      print(entry.summary)"
   ]
  },
  {
   "cell_type": "markdown",
   "metadata": {},
   "source": [
    "# Beautiful Soup을 활용한 HTML 파싱"
   ]
  },
  {
   "cell_type": "code",
   "execution_count": null,
   "metadata": {},
   "outputs": [],
   "source": [
    "from bs4 import BeautifulSoup\n",
    "import re\n",
    "\n",
    "soup = BeautifulSoup(open('loremIpsum.html'),\"lxml\")\n",
    "\n",
    "print(\"First div\\n\", soup.div)\n",
    "print(\"First div class\", soup.div['class'])\n",
    "\n",
    "print(\"First dfn text\", soup.dl.dt.dfn.text)\n",
    "\n",
    "for link in soup.find_all('a'):\n",
    "   print(\"Link text\", link.string, \"URL\", link.get('href'))\n",
    "\n",
    "# find_all 메소드 생략\n",
    "for i, div in enumerate(soup('div')):\n",
    "   print(i, div.contents)\n",
    "\n",
    "\n",
    "#id=official인 <div> 앨리먼트\n",
    "official_div = soup.find_all(\"div\", id=\"official\")\n",
    "print(\"Official Version\", official_div[0].contents[2].strip())\n",
    "\n",
    "print(\"# elements with class\", len(soup.find_all(class_=True)))\n",
    "\n",
    "tile_class = soup.find_all(\"div\", class_=\"tile\")\n",
    "print(\"# Tile classes\", len(tile_class))\n",
    "\n",
    "print(\"# Divs with class containing tile\", len(soup.find_all(\"div\", class_=re.compile(\"tile\"))))\n",
    "\n",
    "print(\"Using CSS selector\\n\", soup.select('div.notile'))\n",
    "print(\"Selecting ordered list list items\\n\", soup.select(\"ol > li\")[:2])\n",
    "print(\"Second list item in ordered list\", soup.select(\"ol > li:nth-of-type(2)\"))\n",
    "\n",
    "print(\"Searching for text string\", soup.find_all(text=re.compile(\"2014\")))"
   ]
  },
  {
   "cell_type": "code",
   "execution_count": null,
   "metadata": {
    "collapsed": true
   },
   "outputs": [],
   "source": []
  }
 ],
 "metadata": {
  "kernelspec": {
   "display_name": "Python 3",
   "language": "python",
   "name": "python3"
  },
  "language_info": {
   "codemirror_mode": {
    "name": "ipython",
    "version": 3
   },
   "file_extension": ".py",
   "mimetype": "text/x-python",
   "name": "python",
   "nbconvert_exporter": "python",
   "pygments_lexer": "ipython3",
   "version": "3.6.1"
  }
 },
 "nbformat": 4,
 "nbformat_minor": 2
}
