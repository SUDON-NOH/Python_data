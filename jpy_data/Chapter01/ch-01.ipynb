{
 "cells": [
  {
   "cell_type": "markdown",
   "metadata": {},
   "source": [
    "# 1장 : 파이썬 라이브러리로 시작하기"
   ]
  },
  {
   "cell_type": "markdown",
   "metadata": {},
   "source": [
    "# 파이썬으로 벡터 덧셈\n",
    "\n",
    "### 더해질 첫번째 벡터는 0부터 n의 제곱으로 이루어져 있다.\n",
    "### 두번째 벡터는 0부터 n의 세제곱이다.\n",
    "### 이 프로그램은 연산 결과 마지막 요소 2개와 경과시간을 출력한다."
   ]
  },
  {
   "cell_type": "code",
   "execution_count": null,
   "metadata": {
    "collapsed": true
   },
   "outputs": [],
   "source": [
    "import sys\n",
    "from datetime import datetime\n",
    "import numpy as np"
   ]
  },
  {
   "cell_type": "code",
   "execution_count": null,
   "metadata": {
    "collapsed": true
   },
   "outputs": [],
   "source": [
    "def numpysum(n):\n",
    "   a = np.arange(n) ** 2\n",
    "   b = np.arange(n) ** 3\n",
    "   c = a + b\n",
    "\n",
    "   return c"
   ]
  },
  {
   "cell_type": "code",
   "execution_count": null,
   "metadata": {
    "collapsed": true
   },
   "outputs": [],
   "source": [
    "def pythonsum(n):\n",
    "   a = list(range(n))\n",
    "   b = list(range(n))\n",
    "   c = []\n",
    "\n",
    "   for i in range(len(a)):\n",
    "       a[i] = i ** 2\n",
    "       b[i] = i ** 3\n",
    "       c.append(a[i] + b[i])\n",
    "\n",
    "   return c"
   ]
  },
  {
   "cell_type": "markdown",
   "metadata": {},
   "source": [
    "## size는 벡터의 크기값을 나타내는 정수값이다."
   ]
  },
  {
   "cell_type": "code",
   "execution_count": null,
   "metadata": {
    "collapsed": true
   },
   "outputs": [],
   "source": [
    "size = 10000"
   ]
  },
  {
   "cell_type": "code",
   "execution_count": null,
   "metadata": {
    "scrolled": true
   },
   "outputs": [],
   "source": [
    "start = datetime.now()\n",
    "c = pythonsum(size)\n",
    "delta = datetime.now() - start\n",
    "print(\"The last 2 elements of the sum\", c[-2:])\n",
    "print(\"PythonSum elapsed time in microseconds\", delta.microseconds)\n",
    "\n",
    "start = datetime.now()\n",
    "c = numpysum(size)\n",
    "delta = datetime.now() - start\n",
    "print(\"The last 2 elements of the sum\", c[-2:])\n",
    "print(\"NumPySum elapsed time in microseconds\", delta.microseconds)"
   ]
  },
  {
   "cell_type": "markdown",
   "metadata": {
    "collapsed": true
   },
   "source": [
    "# NumPy, SciPy, Pandas 모듈 출력하기"
   ]
  },
  {
   "cell_type": "code",
   "execution_count": null,
   "metadata": {
    "scrolled": false
   },
   "outputs": [],
   "source": [
    "import pkgutil as pu\n",
    "import pydoc\n",
    "\n",
    "import numpy as np\n",
    "import scipy as sp\n",
    "import pandas as pd\n",
    "import matplotlib as mpl\n",
    "\n",
    "print(\"NumPy version\", np.__version__)\n",
    "print(\"SciPy version\", sp.__version__)\n",
    "print(\"pandas version\", pd.__version__)\n",
    "print(\"Matplotlib version\", mpl.__version__)\n",
    "\n",
    "def clean(astr):\n",
    "   s = astr\n",
    "   # 필요없는 띄어쓰기 제거하기\n",
    "   s = ' '.join(s.split())\n",
    "   s = s.replace('=','')\n",
    "\n",
    "   return s\n",
    "\n",
    "def print_desc(prefix, pkg_path):\n",
    "   for pkg in pu.iter_modules(path=pkg_path):\n",
    "      name = prefix + \".\" + pkg[1]\n",
    "\n",
    "      if pkg[2] == True:\n",
    "         try:\n",
    "            docstr = pydoc.plain(pydoc.render_doc(name))\n",
    "            docstr = clean(docstr)\n",
    "            start = docstr.find(\"DESCRIPTION\")\n",
    "            docstr = docstr[start: start + 140]\n",
    "            print(name, docstr)\n",
    "         except:\n",
    "            continue\n",
    "\n",
    "print(\"\\n\")\n",
    "print_desc(\"numpy\", np.__path__)\n",
    "print(\"\\n\")\n",
    "print_desc(\"scipy\", sp.__path__)\n",
    "print(\"\\n\")\n",
    "print_desc(\"pandas\", pd.__path__)\n",
    "print(\"\\n\")\n",
    "print_desc(\"matplotlib\", mpl.__path__)"
   ]
  },
  {
   "cell_type": "markdown",
   "metadata": {
    "collapsed": true
   },
   "source": [
    "# Matplotlib 그래프"
   ]
  },
  {
   "cell_type": "code",
   "execution_count": null,
   "metadata": {
    "collapsed": true
   },
   "outputs": [],
   "source": [
    "from sklearn.datasets import load_iris\n",
    "from sklearn.datasets import load_boston\n",
    "from matplotlib import pyplot as plt"
   ]
  },
  {
   "cell_type": "code",
   "execution_count": null,
   "metadata": {},
   "outputs": [],
   "source": [
    "iris = load_iris()\n",
    "print(iris.DESCR)"
   ]
  },
  {
   "cell_type": "code",
   "execution_count": null,
   "metadata": {},
   "outputs": [],
   "source": [
    "data=iris.data\n",
    "plt.plot(data[:,0],data[:,1],\".\")\n",
    "plt.show()"
   ]
  },
  {
   "cell_type": "code",
   "execution_count": null,
   "metadata": {},
   "outputs": [],
   "source": [
    "boston = load_boston()\n",
    "print(boston.DESCR)"
   ]
  },
  {
   "cell_type": "code",
   "execution_count": null,
   "metadata": {},
   "outputs": [],
   "source": [
    "data=boston.data\n",
    "plt.plot(data[:,2],data[:,4],\"+\")\n",
    "plt.show()"
   ]
  }
 ],
 "metadata": {
  "kernelspec": {
   "display_name": "Python 3",
   "language": "python",
   "name": "python3"
  },
  "language_info": {
   "codemirror_mode": {
    "name": "ipython",
    "version": 3
   },
   "file_extension": ".py",
   "mimetype": "text/x-python",
   "name": "python",
   "nbconvert_exporter": "python",
   "pygments_lexer": "ipython3",
   "version": "3.6.1"
  }
 },
 "nbformat": 4,
 "nbformat_minor": 1
}
