{
 "cells": [
  {
   "cell_type": "markdown",
   "metadata": {},
   "source": [
    "# 4장 : 통계학 및 선형 대수"
   ]
  },
  {
   "cell_type": "markdown",
   "metadata": {},
   "source": [
    "# 기본적인 통계학"
   ]
  },
  {
   "cell_type": "code",
   "execution_count": null,
   "metadata": {},
   "outputs": [],
   "source": [
    "%matplotlib inline\n",
    "import numpy as np\n",
    "from scipy.stats import scoreatpercentile\n",
    "import pandas as pd\n",
    "\n",
    "data = pd.read_csv(\"co2.csv\", index_col=0, parse_dates=True)\n",
    "\n",
    "co2 = np.array(data.co2)\n",
    "\n",
    "print(\"The statistical valus for amounts of co2 in atmosphere : \\n\")\n",
    "print(\"Max method : \", co2.max())\n",
    "print(\"Max function : \", np.max(co2))\n",
    "\n",
    "print(\"Min method : \", co2.min())\n",
    "print(\"Min function : \", np.min(co2))\n",
    "\n",
    "print(\"Mean method : \", co2.mean())\n",
    "print(\"Mean function : \", np.mean(co2))\n",
    "\n",
    "print(\"Std method : \", co2.std())\n",
    "print(\"Std function : \", np.std(co2))\n",
    "\n",
    "print(\"Median : \", np.median(co2))\n",
    "print(\"Score at percentile 50 : \", scoreatpercentile(co2, 50))"
   ]
  },
  {
   "cell_type": "markdown",
   "metadata": {},
   "source": [
    "# 선형 대수"
   ]
  },
  {
   "cell_type": "markdown",
   "metadata": {
    "collapsed": true
   },
   "source": [
    "## 역행렬 구하기"
   ]
  },
  {
   "cell_type": "code",
   "execution_count": null,
   "metadata": {
    "collapsed": true
   },
   "outputs": [],
   "source": [
    "A = np.mat(\"2 4 6;4 2 6;10 -4 18\")"
   ]
  },
  {
   "cell_type": "code",
   "execution_count": null,
   "metadata": {},
   "outputs": [],
   "source": [
    "print(\"A\\n\", A)"
   ]
  },
  {
   "cell_type": "code",
   "execution_count": null,
   "metadata": {},
   "outputs": [],
   "source": [
    "inverse = np.linalg.inv(A)\n",
    "print(\"inverse of A\\n\", inverse)"
   ]
  },
  {
   "cell_type": "code",
   "execution_count": null,
   "metadata": {},
   "outputs": [],
   "source": [
    "print(\"Check\\n\", A * inverse)"
   ]
  },
  {
   "cell_type": "code",
   "execution_count": null,
   "metadata": {},
   "outputs": [],
   "source": [
    "print(\"Error\\n\", A * inverse - np.eye(3))"
   ]
  },
  {
   "cell_type": "markdown",
   "metadata": {},
   "source": [
    "## 선형 시스템 해석하기"
   ]
  },
  {
   "cell_type": "code",
   "execution_count": null,
   "metadata": {},
   "outputs": [],
   "source": [
    "A = np.mat(\"1 -2 1;0 2 -8;-4 5 9\")\n",
    "print(\"A\\n\", A)\n",
    "b = np.array([0, 8, -9])\n",
    "print(\"b\\n\", b)"
   ]
  },
  {
   "cell_type": "code",
   "execution_count": null,
   "metadata": {},
   "outputs": [],
   "source": [
    "x = np.linalg.solve(A, b)\n",
    "print(\"Solution\", x)"
   ]
  },
  {
   "cell_type": "code",
   "execution_count": null,
   "metadata": {},
   "outputs": [],
   "source": [
    "print(\"Check\\n\", np.dot(A , x))"
   ]
  },
  {
   "cell_type": "markdown",
   "metadata": {},
   "source": [
    "## 고유값과 고유벡터 구하기"
   ]
  },
  {
   "cell_type": "code",
   "execution_count": null,
   "metadata": {},
   "outputs": [],
   "source": [
    "A = np.mat(\"3 -2;1 0\")\n",
    "print(\"A\\n\", A)\n",
    "\n",
    "print(\"Eigenvalues\", np.linalg.eigvals(A))\n",
    "\n",
    "eigenvalues, eigenvectors = np.linalg.eig(A)\n",
    "print(\"First tuple of eig\", eigenvalues)\n",
    "print(\"Second tuple of eig\\n\", eigenvectors)\n",
    "\n",
    "for i in range(len(eigenvalues)):\n",
    "   print(\"Left\", np.dot(A, eigenvectors[:,i]))\n",
    "   print(\"Right\", eigenvalues[i] * eigenvectors[:,i])"
   ]
  },
  {
   "cell_type": "markdown",
   "metadata": {},
   "source": [
    "# 무작위 수"
   ]
  },
  {
   "cell_type": "markdown",
   "metadata": {},
   "source": [
    "## 이항 분포"
   ]
  },
  {
   "cell_type": "code",
   "execution_count": null,
   "metadata": {},
   "outputs": [],
   "source": [
    "import numpy as np\n",
    "from matplotlib.pyplot import plot, show\n",
    "\n",
    "cash = np.zeros(10000)\n",
    "cash[0] = 1000\n",
    "outcome = np.random.binomial(9, 0.5, size=len(cash))\n",
    "\n",
    "for i in range(1, len(cash)):\n",
    "\n",
    "   if outcome[i] < 5:\n",
    "      cash[i] = cash[i - 1] - 1\n",
    "   elif outcome[i] < 10:\n",
    "      cash[i] = cash[i - 1] + 1\n",
    "   else:\n",
    "      raise AssertionError(\"Unexpected outcome \" + outcome)\n",
    "\n",
    "print(outcome.min(), outcome.max())\n",
    "\n",
    "plot(np.arange(len(cash)), cash)\n",
    "show()"
   ]
  },
  {
   "cell_type": "markdown",
   "metadata": {},
   "source": [
    "## 정규 분포"
   ]
  },
  {
   "cell_type": "code",
   "execution_count": null,
   "metadata": {},
   "outputs": [],
   "source": [
    "import numpy as np\n",
    "import matplotlib.pyplot as plt\n",
    "\n",
    "N=10000\n",
    "\n",
    "normal_values = np.random.normal(size=N)\n",
    "dummy, bins, dummy = plt.hist(normal_values, int(np.sqrt(N)), normed=True, lw=1)\n",
    "sigma = 1\n",
    "mu = 0\n",
    "plt.plot(bins, 1/(sigma * np.sqrt(2 * np.pi)) * np.exp( - (bins - mu)**2 / (2 * sigma**2) ),lw=2)\n",
    "plt.show()"
   ]
  },
  {
   "cell_type": "markdown",
   "metadata": {},
   "source": [
    "## SciPy로 정규성 검증"
   ]
  },
  {
   "cell_type": "code",
   "execution_count": null,
   "metadata": {},
   "outputs": [],
   "source": [
    "import numpy as np\n",
    "from scipy.stats import shapiro\n",
    "from scipy.stats import anderson\n",
    "from scipy.stats import normaltest\n",
    "\n",
    "flutrends = np.loadtxt(\"goog_flutrends.csv\", delimiter=',', usecols=(1,), skiprows=1, converters = {1: lambda s: float(s or 0)}, unpack=True)\n",
    "N = len(flutrends)\n",
    "normal_values = np.random.normal(size=N)\n",
    "zero_values = np.zeros(N)\n",
    "\n",
    "print(\"Normal Values Shapiro\", shapiro(normal_values))\n",
    "#print(\"Zeroes Shapiro\", shapiro(zero_values))\n",
    "print(\"Flu Shapiro\", shapiro(flutrends))\n",
    "\n",
    "print(\"Normal Values Anderson\", anderson(normal_values))\n",
    "#print(\"Zeroes Anderson\", anderson(zero_values))\n",
    "print(\"Flu Anderson\", anderson(flutrends))\n",
    "\n",
    "print(\"Normal Values normaltest\", normaltest(normal_values))\n",
    "#print(\"Zeroes normaltest\", normaltest(zero_values))\n",
    "print(\"Flu normaltest\", normaltest(flutrends))"
   ]
  },
  {
   "cell_type": "markdown",
   "metadata": {},
   "source": [
    "# Numpy 마스킹 배열"
   ]
  },
  {
   "cell_type": "code",
   "execution_count": null,
   "metadata": {
    "scrolled": false
   },
   "outputs": [],
   "source": [
    "import numpy\n",
    "import scipy\n",
    "import matplotlib.pyplot as plt\n",
    "\n",
    "face = scipy.misc.face()\n",
    "\n",
    "random_mask = numpy.random.randint(0, 2, size=face.shape)\n",
    "\n",
    "plt.subplot(221)\n",
    "plt.title(\"Original\")\n",
    "plt.imshow(face)\n",
    "plt.axis('off')\n",
    "\n",
    "masked_array = numpy.ma.array(face, mask=random_mask)\n",
    "\n",
    "plt.subplot(222)\n",
    "plt.title(\"Masked\")\n",
    "plt.imshow(masked_array)\n",
    "plt.axis('off')\n",
    "\n",
    "plt.subplot(223)\n",
    "plt.title(\"Log\")\n",
    "plt.imshow(numpy.ma.log(face).astype(\"float32\"))\n",
    "plt.axis('off')\n",
    "\n",
    "\n",
    "plt.subplot(224)\n",
    "plt.title(\"Log Masked\")\n",
    "plt.imshow(numpy.ma.log(masked_array).astype(\"float32\"))\n",
    "plt.axis('off')\n",
    "\n",
    "plt.show()"
   ]
  },
  {
   "cell_type": "markdown",
   "metadata": {},
   "source": [
    "# 음수와 극단적인 값 제거하기"
   ]
  },
  {
   "cell_type": "code",
   "execution_count": null,
   "metadata": {},
   "outputs": [],
   "source": [
    "import numpy as np\n",
    "from datetime import date\n",
    "import sys\n",
    "import matplotlib.pyplot as plt\n",
    "\n",
    "salary = np.loadtxt(\"MLB2008.csv\", delimiter=',', usecols=(1,), skiprows=1, unpack=True)\n",
    "triples = np.arange(0, len(salary), 3)\n",
    "print(\"Triples\", triples[:10], \"...\")\n",
    "\n",
    "signs = np.ones(len(salary))\n",
    "print(\"Signs\", signs[:10], \"...\")\n",
    "\n",
    "signs[triples] = -1\n",
    "print(\"Signs\", signs[:10], \"...\")\n",
    "\n",
    "ma_log = np.ma.log(salary * signs)\n",
    "print(\"Masked logs\", ma_log[:10], \"...\")\n",
    "\n",
    "dev = salary.std()\n",
    "avg = salary.mean()\n",
    "inside = np.ma.masked_outside(salary, avg - dev, avg + dev)\n",
    "print(\"Inside\", inside[:10], \"...\")\n",
    "\n",
    "plt.subplot(311)\n",
    "plt.title(\"Original\")\n",
    "plt.plot(salary)\n",
    "\n",
    "plt.subplot(312)\n",
    "plt.title(\"Log Masked\")\n",
    "plt.plot(np.exp(ma_log))\n",
    "\n",
    "plt.subplot(313)\n",
    "plt.title(\"Not Extreme\")\n",
    "plt.plot(inside)\n",
    "\n",
    "plt.subplots_adjust(hspace=.9)\n",
    "\n",
    "plt.show()"
   ]
  },
  {
   "cell_type": "code",
   "execution_count": null,
   "metadata": {
    "collapsed": true
   },
   "outputs": [],
   "source": []
  }
 ],
 "metadata": {
  "kernelspec": {
   "display_name": "Python 3",
   "language": "python",
   "name": "python3"
  },
  "language_info": {
   "codemirror_mode": {
    "name": "ipython",
    "version": 3
   },
   "file_extension": ".py",
   "mimetype": "text/x-python",
   "name": "python",
   "nbconvert_exporter": "python",
   "pygments_lexer": "ipython3",
   "version": "3.6.1"
  }
 },
 "nbformat": 4,
 "nbformat_minor": 1
}
