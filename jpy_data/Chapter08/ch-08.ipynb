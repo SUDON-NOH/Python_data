{
 "cells": [
  {
   "cell_type": "markdown",
   "metadata": {},
   "source": [
    "# 8장 : 데이터베이스로 작업하기"
   ]
  },
  {
   "cell_type": "markdown",
   "metadata": {},
   "source": [
    "# sqlite3\n"
   ]
  },
  {
   "cell_type": "code",
   "execution_count": null,
   "metadata": {},
   "outputs": [],
   "source": [
    "import sqlite3\n",
    "\n",
    "with sqlite3.connect(\":memory:\") as con:\n",
    "    c = con.cursor()\n",
    "    c.execute('''CREATE TABLE sensors (date text, city text, code text, sensor_id real, temperature real)''')\n",
    "\n",
    "    for table in c.execute(\"SELECT name FROM sqlite_master WHERE type = 'table'\"):\n",
    "        print(\"Table\", table[0])\n",
    "\n",
    "    c.execute(\"INSERT INTO sensors VALUES ('2016-11-05','Utrecht','Red',42,15.14)\")\n",
    "    c.execute(\"SELECT * FROM sensors\")\n",
    "    print(c.fetchone())\n",
    "    con.execute(\"DROP TABLE sensors\")\n",
    "\n",
    "    print(\"# of tables\", c.execute(\"SELECT COUNT(*) FROM sqlite_master WHERE type = 'table'\").fetchone()[0])\n",
    "\n",
    "    c.close()"
   ]
  },
  {
   "cell_type": "markdown",
   "metadata": {},
   "source": [
    "# pandas"
   ]
  },
  {
   "cell_type": "code",
   "execution_count": null,
   "metadata": {},
   "outputs": [],
   "source": [
    "import statsmodels.api as sm\n",
    "from pandas.io.sql import read_sql\n",
    "import sqlite3\n",
    "\n",
    "with sqlite3.connect(\":memory:\") as con:\n",
    "    c = con.cursor()\n",
    "\n",
    "    data_loader = sm.datasets.sunspots.load_pandas()\n",
    "    df = data_loader.data\n",
    "    rows = [tuple(x) for x in df.values]\n",
    "\n",
    "    con.execute(\"CREATE TABLE sunspots(year, sunactivity)\")\n",
    "    con.executemany(\"INSERT INTO sunspots(year, sunactivity) VALUES (?, ?)\", rows)\n",
    "    c.execute(\"SELECT COUNT(*) FROM sunspots\")\n",
    "    print(c.fetchone())\n",
    "    print(\"Deleted\", con.execute(\"DELETE FROM sunspots where sunactivity > 20\").rowcount, \"rows\")\n",
    "\n",
    "    print(read_sql(\"SELECT * FROM sunspots where year < 1732\", con))\n",
    "    con.execute(\"DROP TABLE sunspots\")\n",
    "\n",
    "    c.close()"
   ]
  },
  {
   "cell_type": "markdown",
   "metadata": {},
   "source": [
    "# SQLAlchemy"
   ]
  },
  {
   "cell_type": "code",
   "execution_count": null,
   "metadata": {
    "scrolled": true
   },
   "outputs": [],
   "source": [
    "from sqlalchemy import Column, ForeignKey, Integer, String, Float\n",
    "from sqlalchemy.ext.declarative import declarative_base\n",
    "from sqlalchemy.orm import relationship\n",
    "from sqlalchemy import create_engine\n",
    "from sqlalchemy import UniqueConstraint\n",
    "\n",
    "Base = declarative_base()\n",
    "class Station(Base):\n",
    "    __tablename__ = 'station'\n",
    "    id = Column(Integer, primary_key=True)\n",
    "    name = Column(String(14), nullable=False, unique=True)\n",
    "\n",
    "    def __repr__(self):\n",
    "        return \"Id=%d name=%s\" %(self.id, self.name)\n",
    "\n",
    "class Sensor(Base):\n",
    "    __tablename__ = 'sensor'\n",
    "    id = Column(Integer, primary_key=True)\n",
    "    last = Column(Integer)\n",
    "    multiplier = Column(Float)\n",
    "    station_id = Column(Integer, ForeignKey('station.id'))\n",
    "    station = relationship(Station)\n",
    "\n",
    "    def __repr__(self):\n",
    "        return \"Id=%d last=%d multiplier=%.1f station_id=%d\" \n",
    "# %(self.id, self.last, self.multiplier, self.station_id)\n",
    "\n",
    "if __name__ == \"__main__\":\n",
    "    print(\"This script is used by code further down in this notebook.\")"
   ]
  },
  {
   "cell_type": "markdown",
   "metadata": {},
   "source": [
    "## SQLAlchemy로 데이터베이스 추가하기"
   ]
  },
  {
   "cell_type": "code",
   "execution_count": null,
   "metadata": {},
   "outputs": [],
   "source": [
    "from sqlalchemy import create_engine\n",
    "from sqlalchemy.orm import sessionmaker\n",
    "\n",
    "#from alchemy_entities import Base, Sensor, Station\n",
    "\n",
    "def populate(engine):\n",
    "    Base.metadata.bind = engine\n",
    "\n",
    "    DBSession = sessionmaker(bind=engine)\n",
    "    session = DBSession()\n",
    "\n",
    "    de_bilt = Station(name='De Bilt')\n",
    "    session.add(de_bilt)\n",
    "    session.add(Station(name='Utrecht'))\n",
    "    session.commit()\n",
    "    print(\"Station\", de_bilt)\n",
    "\n",
    "    temp_sensor = Sensor(last=20, multiplier=.1, station=de_bilt)\n",
    "    session.add(temp_sensor)\n",
    "    session.commit()\n",
    "    print(\"Sensor\", temp_sensor)\n",
    "\n",
    "if __name__ == \"__main__\":\n",
    "    print(\"This script is used by code further down in this notebook\")"
   ]
  },
  {
   "cell_type": "markdown",
   "metadata": {},
   "source": [
    "## SQLAlchemy로 데이터베이스 쿼리하기"
   ]
  },
  {
   "cell_type": "code",
   "execution_count": null,
   "metadata": {},
   "outputs": [],
   "source": [
    "#from alchemy_entities import Base, Sensor, Station\n",
    "#from populate_db import populate\n",
    "from sqlalchemy import create_engine\n",
    "from sqlalchemy.orm import sessionmaker\n",
    "import os\n",
    "from pandas.io.sql import read_sql\n",
    "\n",
    "\n",
    "engine = create_engine('sqlite:///demo.db')\n",
    "Base.metadata.create_all(engine)\n",
    "populate(engine)\n",
    "Base.metadata.bind = engine\n",
    "DBSession = sessionmaker()\n",
    "DBSession.bind = engine\n",
    "session = DBSession()\n",
    "\n",
    "station = session.query(Station).first()\n",
    "\n",
    "print(\"Query 1\", session.query(Station).all())\n",
    "print(\"Query 2\", session.query(Sensor).all())\n",
    "print(\"Query 3\", session.query(Sensor).filter(Sensor.station == station).one())\n",
    "print(read_sql(\"SELECT * FROM station\", engine.raw_connection()))\n",
    "\n",
    "try:\n",
    "    os.remove('demo.db')\n",
    "    print(\"Deleted demo.db\")\n",
    "except OSError:\n",
    "    pass"
   ]
  },
  {
   "cell_type": "markdown",
   "metadata": {},
   "source": [
    "# Pony ORM"
   ]
  },
  {
   "cell_type": "code",
   "execution_count": null,
   "metadata": {},
   "outputs": [],
   "source": [
    "from pony.orm import Database, db_session\n",
    "import statsmodels.api as sm\n",
    "\n",
    "db = Database('sqlite', ':memory:')\n",
    "\n",
    "with db_session:\n",
    "    data_loader = sm.datasets.sunspots.load_pandas()\n",
    "    df = data_loader.data\n",
    "    df.to_sql(\"sunspots\", db.get_connection())\n",
    "    print(db.select(\"count(*) FROM sunspots\"))"
   ]
  },
  {
   "cell_type": "markdown",
   "metadata": {},
   "source": [
    "# 데이터셋 데이터베이스"
   ]
  },
  {
   "cell_type": "code",
   "execution_count": null,
   "metadata": {},
   "outputs": [],
   "source": [
    "import dataset\n",
    "from pandas.io.sql import read_sql\n",
    "from pandas.io.sql import to_sql\n",
    "import statsmodels.api as sm\n",
    "\n",
    "db = dataset.connect('sqlite:///:memory:')\n",
    "table = db[\"books\"]\n",
    "table.insert(dict(title=\"NumPy Beginner's Guide\", author='Ivan Idris'))\n",
    "table.insert(dict(title=\"NumPy Cookbook\", author='Ivan Idris'))\n",
    "table.insert(dict(title=\"Learning NumPy\", author='Ivan Idris'))\n",
    "#print(read_sql('SELECT * FROM books', db.executable.raw_connection()) )\n",
    "\n",
    "#data_loader = sm.datasets.sunspots.load_pandas()\n",
    "#df = data_loader.data\n",
    "#write_frame(df, \"sunspots\", db.executable.raw_connection()) \n",
    "#df.to_sql(\"sunspots\", db.executable.raw_connection()) \n",
    "\n",
    "#table = db['sunspots']\n",
    "\n",
    "#for row in table.find(_limit=5):\n",
    "#   print(row)\n",
    "\n",
    "for row in db['books']:\n",
    "    print(row)\n",
    "    \n",
    "\n",
    "print(\"Tables\", db.tables)"
   ]
  },
  {
   "cell_type": "markdown",
   "metadata": {},
   "source": [
    "# PyMongo와 MongoDB"
   ]
  },
  {
   "cell_type": "code",
   "execution_count": null,
   "metadata": {},
   "outputs": [],
   "source": [
    "from pymongo import MongoClient\n",
    "import statsmodels.api as sm\n",
    "import json\n",
    "import pandas as pd\n",
    "\n",
    "client = MongoClient()\n",
    "db = client.test_database\n",
    "\n",
    "data_loader = sm.datasets.sunspots.load_pandas()\n",
    "df = data_loader.data\n",
    "rows = json.loads(df.T.to_json()).values()\n",
    "db.sunspots.insert_many(rows)\n",
    "\n",
    "cursor = db['sunspots'].find({})\n",
    "df =  pd.DataFrame(list(cursor))\n",
    "print(df)\n",
    "\n",
    "db.drop_collection('sunspots')"
   ]
  },
  {
   "cell_type": "markdown",
   "metadata": {},
   "source": [
    "# Redis에 데이터 저장하기"
   ]
  },
  {
   "cell_type": "code",
   "execution_count": null,
   "metadata": {},
   "outputs": [],
   "source": [
    "import redis\n",
    "import statsmodels.api as sm\n",
    "import pandas as pd\n",
    "\n",
    "r = redis.StrictRedis()\n",
    "data_loader = sm.datasets.sunspots.load_pandas()\n",
    "df = data_loader.data\n",
    "data = df.T.to_json()\n",
    "r.set('sunspots', data)\n",
    "blob = r.get('sunspots')\n",
    "print(pd.read_json(blob))"
   ]
  },
  {
   "cell_type": "markdown",
   "metadata": {},
   "source": [
    "# memcached에 데이터 저장하기"
   ]
  },
  {
   "cell_type": "code",
   "execution_count": null,
   "metadata": {},
   "outputs": [],
   "source": [
    "import memcache\n",
    "import statsmodels.api as sm\n",
    "import pandas as pd\n",
    "\n",
    "client = memcache.Client([('127.0.0.1', 11211)])\n",
    "data_loader = sm.datasets.sunspots.load_pandas()\n",
    "df = data_loader.data\n",
    "data = df.T.to_json()\n",
    "client.set('sunspots', data, time=600)\n",
    "print(\"Stored data to memcached, auto-expire after 600 seconds\")\n",
    "blob = client.get('sunspots')\n",
    "print(pd.read_json(blob))"
   ]
  },
  {
   "cell_type": "markdown",
   "metadata": {},
   "source": [
    "# Apache Cassandra"
   ]
  },
  {
   "cell_type": "code",
   "execution_count": null,
   "metadata": {},
   "outputs": [],
   "source": [
    "from cassandra import ConsistencyLevel\n",
    "from cassandra.cluster import Cluster\n",
    "from cassandra.query import SimpleStatement\n",
    "import statsmodels.api as sm\n",
    "\n",
    "cluster = Cluster()\n",
    "session = cluster.connect()\n",
    "session.execute(\"CREATE KEYSPACE IF NOT EXISTS mykeyspace WITH REPLICATION = { 'class' : 'SimpleStrategy', 'replication_factor' : 1 };\")\n",
    "session.set_keyspace('mykeyspace')\n",
    "session.execute(\"CREATE TABLE IF NOT EXISTS sunspots (year decimal PRIMARY KEY, sunactivity decimal);\")\n",
    "\n",
    "query = SimpleStatement(\n",
    "    \"INSERT INTO sunspots (year, sunactivity) VALUES (%s, %s)\",\n",
    "    consistency_level=ConsistencyLevel.QUORUM)\n",
    "\n",
    "data_loader = sm.datasets.sunspots.load_pandas()\n",
    "df = data_loader.data\n",
    "rows = [tuple(x) for x in df.values]\n",
    "for row in rows:\n",
    "    session.execute(query, row)\n",
    "\n",
    "rows=session.execute(\"SELECT COUNT(*) FROM sunspots\")\n",
    "for row in rows:\n",
    "    print(row)\n",
    "\n",
    "session.execute('DROP KEYSPACE mykeyspace') \n",
    "cluster.shutdown()"
   ]
  },
  {
   "cell_type": "code",
   "execution_count": null,
   "metadata": {
    "collapsed": true
   },
   "outputs": [],
   "source": []
  }
 ],
 "metadata": {
  "kernelspec": {
   "display_name": "Python 3",
   "language": "python",
   "name": "python3"
  },
  "language_info": {
   "codemirror_mode": {
    "name": "ipython",
    "version": 3
   },
   "file_extension": ".py",
   "mimetype": "text/x-python",
   "name": "python",
   "nbconvert_exporter": "python",
   "pygments_lexer": "ipython3",
   "version": "3.6.1"
  }
 },
 "nbformat": 4,
 "nbformat_minor": 2
}
