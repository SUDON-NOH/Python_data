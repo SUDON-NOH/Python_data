{
 "cells": [
  {
   "cell_type": "markdown",
   "metadata": {},
   "source": [
    "# 6장 : 데이터 시각화"
   ]
  },
  {
   "cell_type": "markdown",
   "metadata": {},
   "source": [
    "# Matplotlib 버전 및 모듈"
   ]
  },
  {
   "cell_type": "code",
   "execution_count": null,
   "metadata": {},
   "outputs": [],
   "source": [
    "import pkgutil as pu\n",
    "import numpy as np\n",
    "import matplotlib as mpl\n",
    "import scipy as sp\n",
    "import pandas as pd\n",
    "import pydoc\n",
    "\n",
    "print(\"Matplotlib version\", mpl.__version__)\n",
    "\n",
    "def clean(astr):\n",
    "   s = astr\n",
    "   # 필요없는 공백 제거\n",
    "   s = ' '.join(s.split())\n",
    "   s = s.replace('=','')\n",
    "\n",
    "   return s\n",
    "\n",
    "def print_desc(prefix, pkg_path):\n",
    "   for pkg in pu.iter_modules(path=pkg_path):\n",
    "      name = prefix + \".\" + pkg[1]\n",
    "\n",
    "      if pkg[2] == True:\n",
    "         try:\n",
    "            docstr = pydoc.plain(pydoc.render_doc(name))\n",
    "            docstr = clean(docstr)\n",
    "            start = docstr.find(\"DESCRIPTION\")\n",
    "            docstr = docstr[start: start + 140]\n",
    "            print(name, docstr)\n",
    "         except:\n",
    "            continue\n",
    "\n",
    "print(\"\\n\")\n",
    "print_desc(\"matplotlib\", mpl.__path__)"
   ]
  },
  {
   "cell_type": "markdown",
   "metadata": {},
   "source": [
    "# 기본적인 matplotlib 플롯"
   ]
  },
  {
   "cell_type": "code",
   "execution_count": null,
   "metadata": {},
   "outputs": [],
   "source": [
    "import matplotlib.pyplot as plt\n",
    "import numpy as np\n",
    "\n",
    "x = np.linspace(0, 20)\n",
    "\n",
    "plt.plot(x,  .5 + x)\n",
    "plt.plot(x, 1 + 2 * x, '--')\n",
    "plt.show()"
   ]
  },
  {
   "cell_type": "markdown",
   "metadata": {},
   "source": [
    "# 로그 플롯"
   ]
  },
  {
   "cell_type": "code",
   "execution_count": null,
   "metadata": {},
   "outputs": [],
   "source": [
    "import matplotlib.pyplot as plt\n",
    "import numpy as np\n",
    "import pandas as pd\n",
    "\n",
    "df = pd.read_csv('transcount.csv')\n",
    "df = df.groupby('year').aggregate(np.mean)\n",
    "years = df.index.values\n",
    "counts = df['trans_count'].values\n",
    "poly = np.polyfit(years, np.log(counts), deg=1)\n",
    "print(\"Poly\", poly)\n",
    "plt.semilogy(years, counts, 'o')\n",
    "plt.semilogy(years, np.exp(np.polyval(poly, years)))\n",
    "plt.show()"
   ]
  },
  {
   "cell_type": "markdown",
   "metadata": {},
   "source": [
    "## 분산 플롯"
   ]
  },
  {
   "cell_type": "code",
   "execution_count": null,
   "metadata": {},
   "outputs": [],
   "source": [
    "import matplotlib.pyplot as plt\n",
    "import numpy as np\n",
    "import pandas as pd\n",
    "\n",
    "df = pd.read_csv('transcount.csv')\n",
    "df = df.groupby('year').aggregate(np.mean)\n",
    "\n",
    "gpu = pd.read_csv('gpu_transcount.csv')\n",
    "gpu = gpu.groupby('year').aggregate(np.mean)\n",
    "\n",
    "df = pd.merge(df, gpu, how='outer', left_index=True, right_index=True)\n",
    "df = df.replace(np.nan, 0)\n",
    "years = df.index.values\n",
    "counts = df['trans_count'].values\n",
    "gpu_counts = df['gpu_trans_count'].values\n",
    "cnt_log = np.log(counts)\n",
    "plt.scatter(years, cnt_log, c= 200 * years, s=20 + 200 * gpu_counts/gpu_counts.max(), alpha=0.5)\n",
    "plt.show()"
   ]
  },
  {
   "cell_type": "markdown",
   "metadata": {},
   "source": [
    "# 범례 및 주석"
   ]
  },
  {
   "cell_type": "code",
   "execution_count": null,
   "metadata": {},
   "outputs": [],
   "source": [
    "import matplotlib.pyplot as plt\n",
    "import numpy as np\n",
    "import pandas as pd\n",
    "\n",
    "df = pd.read_csv('transcount.csv')\n",
    "df = df.groupby('year').aggregate(np.mean)\n",
    "gpu = pd.read_csv('gpu_transcount.csv')\n",
    "gpu = gpu.groupby('year').aggregate(np.mean)\n",
    "\n",
    "df = pd.merge(df, gpu, how='outer', left_index=True, right_index=True)\n",
    "df = df.replace(np.nan, 0)\n",
    "years = df.index.values\n",
    "counts = df['trans_count'].values\n",
    "gpu_counts = df['gpu_trans_count'].values\n",
    "\n",
    "poly = np.polyfit(years, np.log(counts), deg=1)\n",
    "plt.plot(years, np.polyval(poly, years), label='Fit')\n",
    "\n",
    "gpu_start = gpu.index.values.min()\n",
    "y_ann = np.log(df.at[gpu_start, 'trans_count'])\n",
    "ann_str = \"First GPU\\n %d\" % gpu_start\n",
    "plt.annotate(ann_str, xy=(gpu_start, y_ann), arrowprops=dict(arrowstyle=\"->\"), xytext=(-30, +70), textcoords='offset points')\n",
    "\n",
    "cnt_log = np.log(counts)\n",
    "plt.scatter(years, cnt_log, c= 200 * years, s=20 + 200 * gpu_counts/gpu_counts.max(), alpha=0.5, label=\"Scatter Plot\")\n",
    "plt.legend(loc='upper left')\n",
    "plt.grid()\n",
    "plt.xlabel(\"Year\")\n",
    "plt.ylabel(\"Log Transistor Counts\", fontsize=16)\n",
    "plt.title(\"Moore's Law & Transistor Counts\")\n",
    "plt.show()"
   ]
  },
  {
   "cell_type": "markdown",
   "metadata": {},
   "source": [
    "# 3차원 플롯"
   ]
  },
  {
   "cell_type": "code",
   "execution_count": null,
   "metadata": {},
   "outputs": [],
   "source": [
    "from mpl_toolkits.mplot3d.axes3d import Axes3D\n",
    "import matplotlib.pyplot as plt\n",
    "import numpy as np\n",
    "import pandas as pd\n",
    "\n",
    "df = pd.read_csv('transcount.csv')\n",
    "df = df.groupby('year').aggregate(np.mean)\n",
    "gpu = pd.read_csv('gpu_transcount.csv')\n",
    "gpu = gpu.groupby('year').aggregate(np.mean)\n",
    "\n",
    "df = pd.merge(df, gpu, how='outer', left_index=True, right_index=True)\n",
    "df = df.replace(np.nan, 0)\n",
    "\n",
    "fig = plt.figure()\n",
    "ax = Axes3D(fig)\n",
    "X = df.index.values\n",
    "\n",
    "#Y = np.log(df['trans_count'].values)\n",
    "Y = np.where(df['trans_count'].values>0, np.log(df['trans_count'].values), 0)\n",
    "X, Y = np.meshgrid(X, Y)\n",
    "#Z = np.log(df['gpu_trans_count'].values)\n",
    "Z = np.where(df['gpu_trans_count'].values>0, np.log(df['gpu_trans_count'].values), 0)\n",
    "\n",
    "ax.plot_surface(X, Y, Z)\n",
    "ax.set_xlabel('Year')\n",
    "ax.set_ylabel('Log CPU transistor counts')\n",
    "ax.set_zlabel('Log GPU transistor counts')\n",
    "ax.set_title(\"Moore's Law & Transistor Counts\")\n",
    "plt.show()"
   ]
  },
  {
   "cell_type": "markdown",
   "metadata": {},
   "source": [
    "# pandas와 플로팅"
   ]
  },
  {
   "cell_type": "code",
   "execution_count": null,
   "metadata": {},
   "outputs": [],
   "source": [
    "import matplotlib.pyplot as plt\n",
    "import numpy as np\n",
    "import pandas as pd\n",
    "\n",
    "df = pd.read_csv('transcount.csv')\n",
    "df = df.groupby('year').aggregate(np.mean)\n",
    "\n",
    "gpu = pd.read_csv('gpu_transcount.csv')\n",
    "gpu = gpu.groupby('year').aggregate(np.mean)\n",
    "\n",
    "df = pd.merge(df, gpu, how='outer', left_index=True, \n",
    "right_index=True)\n",
    "df = df.replace(np.nan, 0)\n",
    "df.plot()\n",
    "df.plot(logy=True)\n",
    "df[df['gpu_trans_count'] > 0].plot(kind='scatter', \n",
    "x='trans_count', y='gpu_trans_count', loglog=True)\n",
    "plt.show()"
   ]
  },
  {
   "cell_type": "markdown",
   "metadata": {},
   "source": [
    "# 지연 플롯"
   ]
  },
  {
   "cell_type": "code",
   "execution_count": null,
   "metadata": {},
   "outputs": [],
   "source": [
    "import matplotlib.pyplot as plt\n",
    "import numpy as np\n",
    "import pandas as pd\n",
    "from pandas.tools.plotting import lag_plot\n",
    "\n",
    "df = pd.read_csv('transcount.csv')\n",
    "df = df.groupby('year').aggregate(np.mean)\n",
    "\n",
    "gpu = pd.read_csv('gpu_transcount.csv')\n",
    "gpu = gpu.groupby('year').aggregate(np.mean)\n",
    "\n",
    "df = pd.merge(df, gpu, how='outer', left_index=True, right_index=True)\n",
    "df = df.replace(np.nan, 0)\n",
    "lag_plot(np.log(df['trans_count']))\n",
    "plt.show()"
   ]
  },
  {
   "cell_type": "markdown",
   "metadata": {},
   "source": [
    "# 자기 상관 플롯"
   ]
  },
  {
   "cell_type": "code",
   "execution_count": null,
   "metadata": {},
   "outputs": [],
   "source": [
    "import matplotlib.pyplot as plt\n",
    "import numpy as np\n",
    "import pandas as pd\n",
    "from pandas.tools.plotting import autocorrelation_plot\n",
    "\n",
    "df = pd.read_csv('transcount.csv')\n",
    "df = df.groupby('year').aggregate(np.mean)\n",
    "\n",
    "gpu = pd.read_csv('gpu_transcount.csv')\n",
    "gpu = gpu.groupby('year').aggregate(np.mean)\n",
    "\n",
    "df = pd.merge(df, gpu, how='outer', left_index=True, right_index=True)\n",
    "df = df.replace(np.nan, 0)\n",
    "autocorrelation_plot(np.log(df['trans_count']))\n",
    "plt.show()"
   ]
  },
  {
   "cell_type": "markdown",
   "metadata": {},
   "source": [
    "# plot.ly"
   ]
  },
  {
   "cell_type": "code",
   "execution_count": null,
   "metadata": {},
   "outputs": [],
   "source": [
    "import plotly.plotly as py\n",
    "from plotly.graph_objs import *\n",
    "import numpy as np\n",
    "import pandas as pd\n",
    "\n",
    "df = pd.read_csv('transcount.csv')\n",
    "df = df.groupby('year').aggregate(np.mean)\n",
    "\n",
    "gpu = pd.read_csv('gpu_transcount.csv')\n",
    "gpu = gpu.groupby('year').aggregate(np.mean)\n",
    "df = pd.merge(df, gpu, how='outer', left_index=True, right_index=True)\n",
    "df = df.replace(np.nan, 0)\n",
    "\n",
    "# 각자 해당하는 username과 api_key를 입력하자.\n",
    "py.sign_in('username', 'api_key')\n",
    "\n",
    "counts = np.log(df['trans_count'].values)\n",
    "gpu_counts = np.log(df['gpu_trans_count'].values)\n",
    "\n",
    "data = Data([Box(y=counts), Box(y=gpu_counts)]) \n",
    "plot_url = py.plot(data, filename='moore-law-scatter')\n",
    "print(plot_url)"
   ]
  },
  {
   "cell_type": "code",
   "execution_count": null,
   "metadata": {
    "collapsed": true
   },
   "outputs": [],
   "source": []
  },
  {
   "cell_type": "code",
   "execution_count": null,
   "metadata": {
    "collapsed": true
   },
   "outputs": [],
   "source": []
  }
 ],
 "metadata": {
  "kernelspec": {
   "display_name": "Python 3",
   "language": "python",
   "name": "python3"
  },
  "language_info": {
   "codemirror_mode": {
    "name": "ipython",
    "version": 3
   },
   "file_extension": ".py",
   "mimetype": "text/x-python",
   "name": "python",
   "nbconvert_exporter": "python",
   "pygments_lexer": "ipython3",
   "version": "3.6.1"
  }
 },
 "nbformat": 4,
 "nbformat_minor": 2
}
