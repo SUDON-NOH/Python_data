{
 "cells": [
  {
   "cell_type": "markdown",
   "metadata": {},
   "source": [
    "# 02장 Numpy"
   ]
  },
  {
   "cell_type": "code",
   "execution_count": 4,
   "metadata": {},
   "outputs": [
    {
     "name": "stdout",
     "output_type": "stream",
     "text": [
      "<class 'list'>\n",
      "<class 'numpy.ndarray'>\n",
      "[0 1 2 3 4 5]\n"
     ]
    }
   ],
   "source": [
    "# 라이브러리 설치 : pip install numpy\n",
    "import numpy as np\n",
    "data1 = [0, 1, 2, 3, 4, 5]\n",
    "print(type(data1))          # <class 'list'>\n",
    "a1 = np.array(data1)\n",
    "print(type(a1))             # <class 'numpy.ndarray'>\n",
    "print(a1)\n",
    "# ndarray : 다차원 배열"
   ]
  },
  {
   "cell_type": "code",
   "execution_count": 5,
   "metadata": {},
   "outputs": [
    {
     "name": "stdout",
     "output_type": "stream",
     "text": [
      "int32\n"
     ]
    }
   ],
   "source": [
    "print(a1.dtype)"
   ]
  },
  {
   "cell_type": "code",
   "execution_count": 6,
   "metadata": {},
   "outputs": [
    {
     "name": "stdout",
     "output_type": "stream",
     "text": [
      "[0.1 2.  3.1 4.5 5. ]\n",
      "float64\n"
     ]
    },
    {
     "data": {
      "text/plain": [
       "array([0.1, 2. , 3.1, 4.5, 5. ])"
      ]
     },
     "execution_count": 6,
     "metadata": {},
     "output_type": "execute_result"
    }
   ],
   "source": [
    "data2 = [0.1, 2, 3.1, 4.5, 5.0]\n",
    "a2 = np.array(data2)         # array는 list를 ndarry로 만든다\n",
    "print(a2)\n",
    "print(a2.dtype)\n",
    "a2"
   ]
  },
  {
   "cell_type": "code",
   "execution_count": 7,
   "metadata": {},
   "outputs": [
    {
     "name": "stdout",
     "output_type": "stream",
     "text": [
      "[ 0  1  2  3  4  5  6  7  8  9 10 11]\n",
      "(12,)\n"
     ]
    },
    {
     "data": {
      "text/plain": [
       "array([ 0,  1,  2,  3,  4,  5,  6,  7,  8,  9, 10, 11])"
      ]
     },
     "execution_count": 7,
     "metadata": {},
     "output_type": "execute_result"
    }
   ],
   "source": [
    "# np.arange()               # 'array range'의 줄임말\n",
    "a3 = np.arange(12)          # 범위를 이용해 리스트를 만든다\n",
    "print(a3)\n",
    "print(a3.shape)             # 차원의 요소 수 는 12개\n",
    "a3"
   ]
  },
  {
   "cell_type": "code",
   "execution_count": 8,
   "metadata": {},
   "outputs": [
    {
     "data": {
      "text/plain": [
       "array([ 0,  2,  4,  6,  8, 10, 12, 14])"
      ]
     },
     "execution_count": 8,
     "metadata": {},
     "output_type": "execute_result"
    }
   ],
   "source": [
    "a5 = np.arange(0, 16, 2)\n",
    "a5"
   ]
  },
  {
   "cell_type": "markdown",
   "metadata": {},
   "source": [
    "### 2차원, 3차원, 다차원"
   ]
  },
  {
   "cell_type": "code",
   "execution_count": 9,
   "metadata": {},
   "outputs": [
    {
     "name": "stdout",
     "output_type": "stream",
     "text": [
      "[[0 1 2]\n",
      " [0 1 2]]\n",
      "(2, 3)\n"
     ]
    },
    {
     "data": {
      "text/plain": [
       "array([[0, 1, 2],\n",
       "       [0, 1, 2]])"
      ]
     },
     "execution_count": 9,
     "metadata": {},
     "output_type": "execute_result"
    }
   ],
   "source": [
    "m2 = np.array([np.arange(3), np.arange(3)])\n",
    "print(m2)\n",
    "print(m2.shape) # (2, 3) # 행이 2개 열이 3개\n",
    "m2"
   ]
  },
  {
   "cell_type": "code",
   "execution_count": 10,
   "metadata": {},
   "outputs": [
    {
     "name": "stdout",
     "output_type": "stream",
     "text": [
      "[[[ 0  1  2]\n",
      "  [ 3  4  5]]\n",
      "\n",
      " [[ 6  7  8]\n",
      "  [ 9 10 11]]]\n",
      "(2, 2, 3)\n"
     ]
    },
    {
     "data": {
      "text/plain": [
       "array([[[ 0,  1,  2],\n",
       "        [ 3,  4,  5]],\n",
       "\n",
       "       [[ 6,  7,  8],\n",
       "        [ 9, 10, 11]]])"
      ]
     },
     "execution_count": 10,
     "metadata": {},
     "output_type": "execute_result"
    }
   ],
   "source": [
    "# Rank  : 차원\n",
    "# Shape : 차원의 요소수\n",
    "\n",
    "m3 = np.arange(12).reshape(2, 2, 3)\n",
    "print(m3)\n",
    "print(m3.shape)    # 2, 2, 3\n",
    "m3     # [] 의 개수가 Rank(차원)의 수"
   ]
  },
  {
   "cell_type": "code",
   "execution_count": 11,
   "metadata": {},
   "outputs": [
    {
     "name": "stdout",
     "output_type": "stream",
     "text": [
      "(1, 1, 2, 3)\n"
     ]
    },
    {
     "data": {
      "text/plain": [
       "array([[[[1, 2, 3],\n",
       "         [4, 5, 6]]]])"
      ]
     },
     "execution_count": 11,
     "metadata": {},
     "output_type": "execute_result"
    }
   ],
   "source": [
    "m_list = [[[[1, 2 ,3 ], [4, 5, 6]]]]\n",
    "m = np.array(m_list)\n",
    "print(m.shape)         # (1, 1, 2, 3)\n",
    "m"
   ]
  },
  {
   "cell_type": "markdown",
   "metadata": {},
   "source": [
    "#### 배열의 shape 바꾸기 : reshape()"
   ]
  },
  {
   "cell_type": "code",
   "execution_count": 12,
   "metadata": {},
   "outputs": [
    {
     "name": "stdout",
     "output_type": "stream",
     "text": [
      "[ 0  1  2  3  4  5  6  7  8  9 10 11]\n",
      "(12,)\n",
      "[[ 0  1  2  3]\n",
      " [ 4  5  6  7]\n",
      " [ 8  9 10 11]]\n",
      "(3, 4)\n",
      "[[ 0  1  2  3  4  5]\n",
      " [ 6  7  8  9 10 11]]\n",
      "(2, 6)\n",
      "[[ 0  1  2]\n",
      " [ 3  4  5]\n",
      " [ 6  7  8]\n",
      " [ 9 10 11]]\n",
      "(4, 3)\n",
      "[[[ 0  1]\n",
      "  [ 2  3]\n",
      "  [ 4  5]]\n",
      "\n",
      " [[ 6  7]\n",
      "  [ 8  9]\n",
      "  [10 11]]]\n",
      "(2, 3, 2)\n",
      "[[[[ 0  1]\n",
      "   [ 2  3]\n",
      "   [ 4  5]]\n",
      "\n",
      "  [[ 6  7]\n",
      "   [ 8  9]\n",
      "   [10 11]]]]\n",
      "(1, 2, 3, 2)\n"
     ]
    }
   ],
   "source": [
    "# 1차원\n",
    "d = np.arange(12)\n",
    "print(d)\n",
    "print(d.shape)\n",
    "\n",
    "# 2차원\n",
    "d = d.reshape(3, 4)          # reshape(3, 4)     3 x 4\n",
    "print(d)\n",
    "print(d.shape)\n",
    "\n",
    "d = d.reshape(-1, 6)         # '-1'열의 개수에 맞춰서 자동으로 맞추라는 뜻\n",
    "print(d)                     # 행의 요소 수를 자동으로 계산\n",
    "print(d.shape)\n",
    "\n",
    "d = d.reshape(4, -1)         # 열의 요소 수를 자동으로 계산\n",
    "print(d)\n",
    "print(d.shape)\n",
    "\n",
    "# 3차원\n",
    "d = d.reshape(2, 3, 2)      # 요소들의 수가 일치해야 차원 변경이 가능 2 x 3 x 2\n",
    "print(d)\n",
    "print(d.shape)\n",
    "\n",
    "# 4차원\n",
    "d = d.reshape(1, 2, 3, 2)\n",
    "print(d)\n",
    "print(d.shape)\n"
   ]
  },
  {
   "cell_type": "markdown",
   "metadata": {},
   "source": [
    "#### 배열의 인덱싱"
   ]
  },
  {
   "cell_type": "code",
   "execution_count": 13,
   "metadata": {},
   "outputs": [
    {
     "name": "stdout",
     "output_type": "stream",
     "text": [
      "[ 0  1  2  3  4  5  6  7  8  9 10 11]\n",
      "0 1 11\n",
      "[ 0  1  2  3  4  5  6  7  8  9 10] [0 3 6 9]\n"
     ]
    }
   ],
   "source": [
    "# 1차원 배열의 인덱싱과 슬라이싱: list와 동일\n",
    "d = np.arange(12)\n",
    "print(d)\n",
    "print(d[0], d[1], d[-1])\n",
    "print(d[:-1], d[::3])"
   ]
  },
  {
   "cell_type": "code",
   "execution_count": 14,
   "metadata": {},
   "outputs": [
    {
     "name": "stdout",
     "output_type": "stream",
     "text": [
      "[[ 0  1  2  3]\n",
      " [ 4  5  6  7]\n",
      " [ 8  9 10 11]]\n",
      "0\n",
      "10\n",
      "[0 1 2 3]\n",
      "[0 1 2 3]\n",
      "[[ 0  1  2]\n",
      " [ 4  5  6]\n",
      " [ 8  9 10]]\n",
      "[[ 0  2]\n",
      " [ 8 10]]\n",
      "[[20 20 20 20]\n",
      " [ 4  5  6  7]\n",
      " [ 8  9 10 11]]\n",
      "[[30 20 20 30]\n",
      " [ 4  5  6  7]\n",
      " [ 8  9 10 11]]\n"
     ]
    }
   ],
   "source": [
    "# 2차원 배열의 인덱싱과 슬라이싱\n",
    "# data[행, 열]\n",
    "d = np.arange(12).reshape(3, 4)\n",
    "print(d)\n",
    "\n",
    "# 인덱싱\n",
    "print(d[0, 0]) # 0   0을 구함\n",
    "print(d[2, 2]) # 10  10을 구함\n",
    "\n",
    "# 슬라이싱\n",
    "print(d[0])    # [0 1 2 3]\n",
    "print(d[0,:])  # [0 1 2 3]\n",
    "print(d[:,:-1])\n",
    "print(d[::2, ::2])   # 행을 0번부터 끝까지, 열도 0번부터 끝까지 2 step 단위로\n",
    "d[0] = 20      # 열을 생략해서 d[0]행이 전부 20으로 바뀌었다\n",
    "print(d)\n",
    "d[::3, ::3] = 30\n",
    "print(d)"
   ]
  },
  {
   "cell_type": "code",
   "execution_count": 15,
   "metadata": {},
   "outputs": [
    {
     "name": "stdout",
     "output_type": "stream",
     "text": [
      "[[[ 0  1  2]\n",
      "  [ 3  4  5]]\n",
      "\n",
      " [[ 6  7  8]\n",
      "  [ 9 10 11]]]\n",
      "10\n",
      "7\n",
      "5\n",
      "[[[0 1]]\n",
      "\n",
      " [[6 7]]]\n",
      "[[[ 4  5]]\n",
      "\n",
      " [[10 11]]]\n"
     ]
    }
   ],
   "source": [
    "# 3차원 배열의 인덱싱과 슬라이싱\n",
    "# data[행, 열, 면]\n",
    "d = np.arange(12).reshape(2, 2, 3)\n",
    "print(d)\n",
    "\n",
    "# 인덱싱\n",
    "print(d[1, 1, 1])\n",
    "print(d[1, 0, 1])\n",
    "print(d[0, 1, 2])\n",
    "\n",
    "# 슬라이싱\n",
    "print(d[:, :-1, :-1])   # shape : (2, 1, 2)\n",
    "print(d[:, 1:, 1:])\n"
   ]
  },
  {
   "cell_type": "code",
   "execution_count": 16,
   "metadata": {},
   "outputs": [
    {
     "name": "stdout",
     "output_type": "stream",
     "text": [
      "[[ 0  1  2  3]\n",
      " [ 4  5  6  7]\n",
      " [ 8  9 10 11]]\n",
      "[0 1 2 3]\n",
      "[[ 0  1  2  3]\n",
      " [ 4  5  6  7]\n",
      " [ 8  9 10 11]]\n",
      "1\n",
      "1\n"
     ]
    }
   ],
   "source": [
    "# 2차원 다른 접근 방법\n",
    "d = np.arange(12).reshape(3, 4)\n",
    "print(d)\n",
    "print(d[0])  # 범위를 지정하지 않아 차원이 1단계 하락했다\n",
    "print(d[0:])\n",
    "print(d[0][1])\n",
    "print(d[0, 1])"
   ]
  },
  {
   "cell_type": "code",
   "execution_count": 17,
   "metadata": {},
   "outputs": [
    {
     "name": "stdout",
     "output_type": "stream",
     "text": [
      "[[[ 0  1  2]\n",
      "  [ 3  4  5]]\n",
      "\n",
      " [[ 6  7  8]\n",
      "  [ 9 10 11]]]\n",
      "[[0 1 2]\n",
      " [3 4 5]]\n",
      "[[[ 0  1  2]\n",
      "  [ 3  4  5]]\n",
      "\n",
      " [[ 6  7  8]\n",
      "  [ 9 10 11]]]\n",
      "[3 4 5]\n",
      "[3 4 5]\n",
      "3\n",
      "3\n"
     ]
    }
   ],
   "source": [
    "# 3차원의 경우\n",
    "# 2차원 다른 접근 방법\n",
    "d = np.arange(12).reshape(2, 2, 3)\n",
    "print(d)\n",
    "print(d[0])  # 범위를 지정하지 않아 차원이 1단계 하락했다\n",
    "print(d[0:])\n",
    "print(d[0][1])\n",
    "print(d[0, 1])\n",
    "print(d[0][1][0])\n",
    "print(d[0, 1, 0])"
   ]
  },
  {
   "cell_type": "markdown",
   "metadata": {},
   "source": [
    "#### 배열 형상 다루기: 편평화(flatten), 전치(transpose).reshape"
   ]
  },
  {
   "cell_type": "code",
   "execution_count": 18,
   "metadata": {},
   "outputs": [
    {
     "name": "stdout",
     "output_type": "stream",
     "text": [
      "[[ 0  1  2  3]\n",
      " [ 4  5  6  7]\n",
      " [ 8  9 10 11]]\n",
      "[ 0  1  2  3  4  5  6  7  8  9 10 11] (12,)\n",
      "[[ 0  1  2  3]\n",
      " [ 4  5  6  7]\n",
      " [ 8  9 10 11]]\n",
      "[[ 8  9 10 11]\n",
      " [ 4  5  6  7]\n",
      " [ 0  1  2  3]]\n",
      "[[ 3  2  1  0]\n",
      " [ 7  6  5  4]\n",
      " [11 10  9  8]]\n",
      "[[11 10  9  8]\n",
      " [ 7  6  5  4]\n",
      " [ 3  2  1  0]]\n",
      "[[ 0  4  8]\n",
      " [ 1  5  9]\n",
      " [ 2  6 10]\n",
      " [ 3  7 11]]\n",
      "(4, 3)\n"
     ]
    }
   ],
   "source": [
    "# flatten() : 다차원 배열을 1차원으로 만든다.\n",
    "d = np.arange(12).reshape(3, 4)\n",
    "print(d)\n",
    "f = d.flatten()      # f = d.reshape(12, ) 와 같은 결과\n",
    "print(f, f.shape)\n",
    "r = f.reshape(3, 4)\n",
    "print(r)\n",
    "\n",
    "# 데이터 순서를 거꾸로 변경\n",
    "print(d[::-1])       # 행의 순서가 반대로 변화\n",
    "                                       # [[ 8  9 10 11]\n",
    "                                       #  [ 4  5  6  7]\n",
    "                                       #  [ 0  1  2  3]]\n",
    "print(d[:,::-1])     # 열의 순서가 반대로 변화\n",
    "                                       # [[ 3  2  1  0]\n",
    "                                       #  [ 7  6  5  4]\n",
    "                                       #  [11 10  9  8]]\n",
    "print(d[::-1, ::-1]) # 행과 열의 순서를 모두 반대로 변경\n",
    "                                       # [[11 10  9  8]\n",
    "                                       #  [ 7  6  5  4]\n",
    "                                       #  [ 3  2  1  0]]\n",
    "\n",
    "# transpose() : 전치 행렬, 행과 열을 서로 맞바꾸는 함수\n",
    "t = d.transpose()\n",
    "print(t)\n",
    "print(t.shape)    # (4, 3)   원래는 (3, 4)의 모양\n",
    "                                       # [[ 0  4  8]\n",
    "                                       #  [ 1  5  9]\n",
    "                                       #  [ 2  6 10]\n",
    "                                       #  [ 3  7 11]]\n"
   ]
  },
  {
   "cell_type": "markdown",
   "metadata": {},
   "source": [
    "#### 배열합치기\n",
    "- 수평(h, 열)으로 합치기 : hstack(), column_stack(), axis = 1\n",
    "- 수직(v, 행)으로 합치기 : vstack(), row_stack(), axis = 0\n",
    "- axis(축)"
   ]
  },
  {
   "cell_type": "code",
   "execution_count": 19,
   "metadata": {},
   "outputs": [
    {
     "name": "stdout",
     "output_type": "stream",
     "text": [
      "[[0 1 2]\n",
      " [3 4 5]\n",
      " [6 7 8]]\n",
      "[[ 0  2  4]\n",
      " [ 6  8 10]\n",
      " [12 14 16]]\n",
      "[[ 0  1  2  0  2  4]\n",
      " [ 3  4  5  6  8 10]\n",
      " [ 6  7  8 12 14 16]]\n",
      "[[ 0  1  2  0  2  4]\n",
      " [ 3  4  5  6  8 10]\n",
      " [ 6  7  8 12 14 16]]\n",
      "[[ 0  1  2  0  2  4]\n",
      " [ 3  4  5  6  8 10]\n",
      " [ 6  7  8 12 14 16]]\n"
     ]
    }
   ],
   "source": [
    "# 수평(열)으로 합치기: hstack()\n",
    "a = np.arange(9).reshape(3, 3)\n",
    "b = a * 2        # 배열의 연산\n",
    "print(a)\n",
    "                 # [[0 1 2]\n",
    "                 #  [3 4 5]\n",
    "                 #  [6 7 8]]\n",
    "print(b)\n",
    "                 # [[ 0  2  4]\n",
    "                 #  [ 6  8 10]\n",
    "                 #  [12 14 16]]\n",
    "            \n",
    "r = np.hstack((a, b))\n",
    "print(r)\n",
    "c = np.column_stack((a, b))\n",
    "print(c)\n",
    "\n",
    "x = np.concatenate((a, b), axis = 1)  # 열 : axis = 1   설정이 없으면 기본적으로 행이 된다.\n",
    "print(x)\n",
    "\n"
   ]
  },
  {
   "cell_type": "code",
   "execution_count": 20,
   "metadata": {},
   "outputs": [
    {
     "name": "stdout",
     "output_type": "stream",
     "text": [
      "[[ 0  1  2]\n",
      " [ 3  4  5]\n",
      " [ 6  7  8]\n",
      " [ 0  2  4]\n",
      " [ 6  8 10]\n",
      " [12 14 16]]\n",
      "[[ 0  1  2]\n",
      " [ 3  4  5]\n",
      " [ 6  7  8]\n",
      " [ 0  2  4]\n",
      " [ 6  8 10]\n",
      " [12 14 16]]\n",
      "[[ 0  1  2]\n",
      " [ 3  4  5]\n",
      " [ 6  7  8]\n",
      " [ 0  2  4]\n",
      " [ 6  8 10]\n",
      " [12 14 16]]\n"
     ]
    }
   ],
   "source": [
    "# 수직으로 합치기: vstack()\n",
    "a = np.arange(9).reshape(3, 3)\n",
    "b = a * 2\n",
    "r = np.vstack((a, b))\n",
    "print(r)\n",
    "c = np.row_stack((a, b))\n",
    "print(c)\n",
    "\n",
    "x = np.concatenate((a, b), axis = 0)  # 행 : axis = 0\n",
    "print(x)"
   ]
  },
  {
   "cell_type": "markdown",
   "metadata": {},
   "source": [
    "#### 쪼개기\n",
    "- hsplit(배열, 열의 개수) : 수평(열), axis = 1\n",
    "- vsplit(배열, 행의 개수) : 수직(행), axis = 0"
   ]
  },
  {
   "cell_type": "code",
   "execution_count": 21,
   "metadata": {},
   "outputs": [
    {
     "name": "stdout",
     "output_type": "stream",
     "text": [
      "[[0 1 2]\n",
      " [3 4 5]\n",
      " [6 7 8]]\n",
      "[array([[0],\n",
      "       [3],\n",
      "       [6]]), array([[1],\n",
      "       [4],\n",
      "       [7]]), array([[2],\n",
      "       [5],\n",
      "       [8]])]\n",
      "[array([[0],\n",
      "       [3],\n",
      "       [6]]), array([[1],\n",
      "       [4],\n",
      "       [7]]), array([[2],\n",
      "       [5],\n",
      "       [8]])]\n",
      "[array([[0, 1, 2]]), array([[3, 4, 5]]), array([[6, 7, 8]])]\n",
      "[array([[0, 1, 2]]), array([[3, 4, 5]]), array([[6, 7, 8]])]\n"
     ]
    }
   ],
   "source": [
    "a = np.arange(9).reshape(3, 3)\n",
    "print(a)\n",
    "\n",
    "\n",
    "print(np.hsplit(a, 3))         # a를 3개의 array로 쪼갬   열의 개수와 hsplit(a, b)에서 b가 배수 관계여야 한다.\n",
    "print(np.split(a, 3, axis = 1))\n",
    "\n",
    "# b = np.arange(12).reshape(3, 4)    # TypeError\n",
    "# print(np.hsplit(b, 3))\n",
    "\n",
    "print(np.vsplit(a, 3))\n",
    "print(np.split(a, 3, axis = 0))\n"
   ]
  },
  {
   "cell_type": "markdown",
   "metadata": {},
   "source": [
    "#### Numpy 속성(Attrribute) : 클래스의 인스턴스 멤버변수\n",
    "- T, flat, ndim, nbytes, size, dtype"
   ]
  },
  {
   "cell_type": "code",
   "execution_count": 22,
   "metadata": {},
   "outputs": [
    {
     "name": "stdout",
     "output_type": "stream",
     "text": [
      "[[ 0  1  2  3]\n",
      " [ 4  5  6  7]\n",
      " [ 8  9 10 11]]\n",
      "48\n",
      "12\n",
      "int32\n",
      "2\n",
      "[[ 0  4  8]\n",
      " [ 1  5  9]\n",
      " [ 2  6 10]\n",
      " [ 3  7 11]]\n",
      "[[0 0 0 0]\n",
      " [0 0 0 0]\n",
      " [0 0 0 0]]\n"
     ]
    }
   ],
   "source": [
    "a = np.arange(12).reshape(3, 4)\n",
    "print(a)\n",
    "print(a.nbytes)      # 48 : byte 단위로 데이터 크기\n",
    "print(a.size)        # 12 : 데이터 크기\n",
    "print(a.dtype)       # int32 -> 4 byte\n",
    "print(a.ndim)        # 2 : 차원의 크기를 나타냄\n",
    "print(a.T)           # 전치 행렬\n",
    "a.flat = 0           # 모든 값을 0으로 출력하고 싶을 경우\n",
    "print(a)"
   ]
  },
  {
   "cell_type": "markdown",
   "metadata": {},
   "source": [
    "#### 배열의 View와 Copy\n",
    "- View: 원본 객체와 메모리를 공유한다\n",
    "- Copy: 원본 객체와는 다른 별도의 메모리를 사용한다"
   ]
  },
  {
   "cell_type": "code",
   "execution_count": 23,
   "metadata": {},
   "outputs": [
    {
     "name": "stdout",
     "output_type": "stream",
     "text": [
      "<class 'numpy.ndarray'>\n",
      "(768, 1024, 3)\n",
      "2359296\n",
      "2359296\n",
      "uint8\n",
      "3\n",
      "type: <class 'numpy.ndarray'>\n",
      "shape: (768, 1024, 3)\n",
      "nbytes: 2359296\n",
      "size: 2359296\n",
      "dtype: uint8\n",
      "ndim: 3\n"
     ]
    },
    {
     "data": {
      "text/plain": [
       "<Figure size 640x480 with 1 Axes>"
      ]
     },
     "metadata": {},
     "output_type": "display_data"
    },
    {
     "data": {
      "text/plain": [
       "<Figure size 640x480 with 3 Axes>"
      ]
     },
     "metadata": {},
     "output_type": "display_data"
    }
   ],
   "source": [
    "import scipy.misc\n",
    "import matplotlib.pyplot as plt\n",
    "\n",
    "face = scipy.misc.face()       # face : read only\n",
    "face2 = face.copy()            # face2 : read and write 가능\n",
    "\n",
    "print(type(face2))              #  <class 'numpy.ndarray'>\n",
    "print(face2.shape)              # (768, 1024, 3)\n",
    "print(face2.nbytes)\n",
    "print(face2.size)\n",
    "print(face2.dtype)\n",
    "print(face2.ndim)   \n",
    "\n",
    "def imformation(a):\n",
    "    print('type:', type(a))\n",
    "    print('shape:', a.shape)\n",
    "    print('nbytes:', a.nbytes)\n",
    "    print('size:', a.size)\n",
    "    print('dtype:', a.dtype)\n",
    "    print('ndim:', a.ndim)\n",
    "\n",
    "imformation(face2)\n",
    "\n",
    "f_copy = face2.copy()   # 아무리 변경해도 원본과는 관계가 없음\n",
    "f_view = face2.view()\n",
    "# f_copy.flat = 128\n",
    "\n",
    "\n",
    "plt.imshow(f_view)\n",
    "plt.show()\n",
    "\n",
    "plt.subplot(221)        # 2 x 2 인 4가지 사진 중 첫번째\n",
    "face2[:,:,0] = 0\n",
    "plt.imshow(face2)\n",
    "plt.subplot(222)\n",
    "plt.imshow(f_copy)\n",
    "plt.subplot(223)\n",
    "plt.imshow(f_view)\n",
    "plt.show()\n",
    "\n",
    "# print(face2)\n"
   ]
  },
  {
   "cell_type": "markdown",
   "metadata": {},
   "source": [
    "### 연습문제"
   ]
  },
  {
   "cell_type": "code",
   "execution_count": 29,
   "metadata": {},
   "outputs": [
    {
     "name": "stdout",
     "output_type": "stream",
     "text": [
      "[[ 0  1  2  3]\n",
      " [ 4  5  6  7]\n",
      " [ 8  9 10 11]]\n",
      "[[11 10  9  8]\n",
      " [ 7  6  5  4]\n",
      " [ 3  2  1  0]]\n",
      "[[ 0  1  2]\n",
      " [ 4  5  6]\n",
      " [ 8  9 10]]\n",
      "[[ 0  4  8]\n",
      " [ 1  5  9]\n",
      " [ 2  6 10]\n",
      " [ 3  7 11]]\n",
      "[ 0  1  2  3  4  5  6  7  8  9 10 11]\n",
      "x \n",
      " [[ 0  1  2  3]\n",
      " [ 4  5  6  7]\n",
      " [ 8  9 10 11]\n",
      " [12 13 14 15]] \n",
      " \n",
      " y \n",
      " [[ 0  2  4  6]\n",
      " [ 8 10 12 14]\n",
      " [16 18 20 22]\n",
      " [24 26 28 30]]\n",
      "[[ 0  1  2  3  0  2  4  6]\n",
      " [ 4  5  6  7  8 10 12 14]\n",
      " [ 8  9 10 11 16 18 20 22]\n",
      " [12 13 14 15 24 26 28 30]]\n",
      "[[ 0  1  2  3]\n",
      " [ 4  5  6  7]\n",
      " [ 8  9 10 11]\n",
      " [12 13 14 15]\n",
      " [ 0  2  4  6]\n",
      " [ 8 10 12 14]\n",
      " [16 18 20 22]\n",
      " [24 26 28 30]]\n",
      "[[ 0  1  2  3  0  2  4  6]\n",
      " [ 4  5  6  7  8 10 12 14]\n",
      " [ 8  9 10 11 16 18 20 22]\n",
      " [12 13 14 15 24 26 28 30]]\n",
      "[[ 0  1  2  3]\n",
      " [ 4  5  6  7]\n",
      " [ 8  9 10 11]\n",
      " [12 13 14 15]\n",
      " [ 0  2  4  6]\n",
      " [ 8 10 12 14]\n",
      " [16 18 20 22]\n",
      " [24 26 28 30]]\n",
      "[[[121 112 131]\n",
      "  [138 129 148]\n",
      "  [153 144 165]\n",
      "  ...\n",
      "  [119 126  74]\n",
      "  [131 136  82]\n",
      "  [139 144  90]]\n",
      "\n",
      " [[ 89  82 100]\n",
      "  [110 103 121]\n",
      "  [130 122 143]\n",
      "  ...\n",
      "  [118 125  71]\n",
      "  [134 141  87]\n",
      "  [146 153  99]]\n",
      "\n",
      " [[ 73  66  84]\n",
      "  [ 94  87 105]\n",
      "  [115 108 126]\n",
      "  ...\n",
      "  [117 126  71]\n",
      "  [133 142  87]\n",
      "  [144 153  98]]\n",
      "\n",
      " ...\n",
      "\n",
      " [[ 87 106  76]\n",
      "  [ 94 110  81]\n",
      "  [107 124  92]\n",
      "  ...\n",
      "  [120 158  97]\n",
      "  [119 157  96]\n",
      "  [119 158  95]]\n",
      "\n",
      " [[ 85 101  72]\n",
      "  [ 95 111  82]\n",
      "  [112 127  96]\n",
      "  ...\n",
      "  [121 157  96]\n",
      "  [120 156  94]\n",
      "  [120 156  94]]\n",
      "\n",
      " [[ 85 101  74]\n",
      "  [ 97 113  84]\n",
      "  [111 126  97]\n",
      "  ...\n",
      "  [120 156  95]\n",
      "  [119 155  93]\n",
      "  [118 154  92]]]\n",
      "[[[121 112 131]\n",
      "  [138 129 148]\n",
      "  [153 144 165]\n",
      "  ...\n",
      "  [119 126   0]\n",
      "  [131 136   0]\n",
      "  [139 144   0]]\n",
      "\n",
      " [[  0   0 100]\n",
      "  [110 103 121]\n",
      "  [130 122 143]\n",
      "  ...\n",
      "  [118 125   0]\n",
      "  [134 141   0]\n",
      "  [146 153   0]]\n",
      "\n",
      " [[  0   0   0]\n",
      "  [  0   0 105]\n",
      "  [115 108 126]\n",
      "  ...\n",
      "  [117 126   0]\n",
      "  [133 142   0]\n",
      "  [144 153   0]]\n",
      "\n",
      " ...\n",
      "\n",
      " [[  0 106   0]\n",
      "  [  0 110   0]\n",
      "  [107 124   0]\n",
      "  ...\n",
      "  [120 158   0]\n",
      "  [119 157   0]\n",
      "  [119 158   0]]\n",
      "\n",
      " [[  0 101   0]\n",
      "  [  0 111   0]\n",
      "  [112 127   0]\n",
      "  ...\n",
      "  [121 157   0]\n",
      "  [120 156   0]\n",
      "  [120 156   0]]\n",
      "\n",
      " [[  0 101   0]\n",
      "  [  0 113   0]\n",
      "  [111 126   0]\n",
      "  ...\n",
      "  [120 156   0]\n",
      "  [119 155   0]\n",
      "  [118 154   0]]]\n"
     ]
    },
    {
     "data": {
      "image/png": "[encoded data removed]",
      "text/plain": [
       "<Figure size 432x288 with 4 Axes>"
      ]
     },
     "metadata": {
      "needs_background": "light"
     },
     "output_type": "display_data"
    }
   ],
   "source": [
    "# Q.1\n",
    "x = np.arange(12).reshape(3, 4)\n",
    "print(x)\n",
    "\n",
    "# 1\n",
    "print(x[::-1, ::-1])\n",
    "\n",
    "# 2\n",
    "\n",
    "print(x[:,:-1])\n",
    "\n",
    "# 3\n",
    "\n",
    "print(x.transpose())\n",
    "\n",
    "# 4\n",
    "\n",
    "print(x.flatten())\n",
    "\n",
    "# Q.2\n",
    "\n",
    "x = np.arange(16).reshape(4, 4)\n",
    "y = x * 2\n",
    "print('x', '\\n', x ,'\\n','\\n','y','\\n', y)\n",
    "\n",
    "# 1\n",
    "\n",
    "z = np.hstack((x, y))\n",
    "\n",
    "print(z)\n",
    "\n",
    "# 2 \n",
    "\n",
    "c = np.vstack((x, y))\n",
    "\n",
    "print(c)\n",
    "\n",
    "# 3\n",
    "\n",
    "z = np.column_stack((x, y))\n",
    "\n",
    "print(z)\n",
    "\n",
    "# 4\n",
    "\n",
    "c = np.row_stack((x, y))\n",
    "\n",
    "print(c)\n",
    "\n",
    "# Q.3\n",
    "\n",
    "face = scipy.misc.face()\n",
    "print(face)\n",
    "\n",
    "f_copyR = face.copy()\n",
    "f_copyG = face.copy()\n",
    "f_copyB = face.copy()\n",
    "f_copyM = face.copy()\n",
    "\n",
    "\n",
    "plt.subplot(221)\n",
    "f_copyR[:,:,0] = 0\n",
    "plt.imshow(f_copyR)\n",
    "plt.subplot(222)\n",
    "f_copyG[:,:,1] = 0\n",
    "plt.imshow(f_copyG)\n",
    "plt.subplot(223)\n",
    "f_copyB[:,:,2] = 0\n",
    "plt.imshow(f_copyB)\n",
    "plt.subplot(224)\n",
    "# for x in range(768):\n",
    "#     for y in range(1024):\n",
    "#         for z in range(3):\n",
    "#             if f_copyM[x][y][z] < 100:\n",
    "#                 f_copyM[x][y][z] = 0\n",
    "\n",
    "f_copyM[f_copyM<100] = 0\n",
    "print(f_copyM)\n",
    "\n",
    "    \n",
    "\n",
    "plt.imshow(f_copyM)\n",
    "plt.show()"
   ]
  },
  {
   "cell_type": "markdown",
   "metadata": {},
   "source": []
  }
 ],
 "metadata": {
  "kernelspec": {
   "display_name": "Python 3",
   "language": "python",
   "name": "python3"
  },
  "language_info": {
   "codemirror_mode": {
    "name": "ipython",
    "version": 3
   },
   "file_extension": ".py",
   "mimetype": "text/x-python",
   "name": "python",
   "nbconvert_exporter": "python",
   "pygments_lexer": "ipython3",
   "version": "3.7.3"
  }
 },
 "nbformat": 4,
 "nbformat_minor": 2
}
